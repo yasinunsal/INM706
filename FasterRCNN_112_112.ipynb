{
  "cells": [
    {
      "cell_type": "markdown",
      "metadata": {
        "id": "view-in-github",
        "colab_type": "text"
      },
      "source": [
        "<a href=\"https://colab.research.google.com/github/yasinunsal/INM706/blob/main/FasterRCNN_112_112.ipynb\" target=\"_parent\"><img src=\"https://colab.research.google.com/assets/colab-badge.svg\" alt=\"Open In Colab\"/></a>"
      ]
    },
    {
      "cell_type": "code",
      "execution_count": 1,
      "metadata": {
        "colab": {
          "base_uri": "https://localhost:8080/"
        },
        "id": "mEfBVAODIKF3",
        "outputId": "a6219653-6a1d-4414-885a-db67f3881bbe"
      },
      "outputs": [
        {
          "output_type": "stream",
          "name": "stdout",
          "text": [
            "Mounted at /content/drive\n"
          ]
        }
      ],
      "source": [
        "from google.colab import drive\n",
        "drive.mount('/content/drive')"
      ]
    },
    {
      "cell_type": "code",
      "execution_count": 2,
      "metadata": {
        "colab": {
          "base_uri": "https://localhost:8080/"
        },
        "id": "ODhLpahhI_ri",
        "outputId": "fbafad20-ec4e-4b85-9e1d-a82269af3aec"
      },
      "outputs": [
        {
          "output_type": "stream",
          "name": "stdout",
          "text": [
            "drive  sample_data\n"
          ]
        }
      ],
      "source": [
        "!ls"
      ]
    },
    {
      "cell_type": "code",
      "execution_count": 3,
      "metadata": {
        "colab": {
          "base_uri": "https://localhost:8080/"
        },
        "id": "6XA5faGdJAyh",
        "outputId": "a42ad1d7-3f96-4c8b-8c42-bfe9b43e1d1a"
      },
      "outputs": [
        {
          "output_type": "stream",
          "name": "stdout",
          "text": [
            "/content/drive/MyDrive/Colab Notebooks\n",
            "05180000029.ipynb\t\t\t fruit-images-for-object-detection  Untitled2.ipynb\n",
            "FasterRCNN_112_112_faster_weights.ipynb  INM702-Task2.ipynb\t\t    Untitled3.ipynb\n",
            "FasterRCNN_112_112.ipynb\t\t Untitled\t\t\t    Untitled4.ipynb\n",
            "FasterRCNN_224_224.ipynb\t\t Untitled0.ipynb\t\t    Untitled6.ipynb\n",
            "FasterRCNN_448_448.ipynb\t\t Untitled1.ipynb\t\t    wandb\n"
          ]
        }
      ],
      "source": [
        "%cd /content/drive/MyDrive/Colab\\ Notebooks\n",
        "!ls\n"
      ]
    },
    {
      "cell_type": "code",
      "execution_count": 4,
      "metadata": {
        "colab": {
          "base_uri": "https://localhost:8080/"
        },
        "id": "vPI0TNLzJUJX",
        "outputId": "64147110-3639-4a93-8491-8d3fea14b29c"
      },
      "outputs": [
        {
          "output_type": "stream",
          "name": "stdout",
          "text": [
            "Python 3.10.12\n"
          ]
        }
      ],
      "source": [
        "! python --version"
      ]
    },
    {
      "cell_type": "code",
      "execution_count": 5,
      "metadata": {
        "colab": {
          "base_uri": "https://localhost:8080/",
          "height": 364
        },
        "id": "pn_0sv_HMCOo",
        "outputId": "b9004f16-6e5d-4947-8289-ae8c21644b11"
      },
      "outputs": [
        {
          "output_type": "stream",
          "name": "stdout",
          "text": [
            "\u001b[?25l     \u001b[90m━━━━━━━━━━━━━━━━━━━━━━━━━━━━━━━━━━━━━━━━\u001b[0m \u001b[32m0.0/79.8 kB\u001b[0m \u001b[31m?\u001b[0m eta \u001b[36m-:--:--\u001b[0m\r\u001b[2K     \u001b[90m━━━━━━━━━━━━━━━━━━━━━━━━━━━━━━━━━━━━━━━━\u001b[0m \u001b[32m79.8/79.8 kB\u001b[0m \u001b[31m2.2 MB/s\u001b[0m eta \u001b[36m0:00:00\u001b[0m\n",
            "\u001b[2K     \u001b[90m━━━━━━━━━━━━━━━━━━━━━━━━━━━━━━━━━━━━━━━━\u001b[0m \u001b[32m116.3/116.3 kB\u001b[0m \u001b[31m6.6 MB/s\u001b[0m eta \u001b[36m0:00:00\u001b[0m\n",
            "\u001b[2K     \u001b[90m━━━━━━━━━━━━━━━━━━━━━━━━━━━━━━━━━━━━━━━━\u001b[0m \u001b[32m62.5/62.5 kB\u001b[0m \u001b[31m8.6 MB/s\u001b[0m eta \u001b[36m0:00:00\u001b[0m\n",
            "\u001b[2K     \u001b[90m━━━━━━━━━━━━━━━━━━━━━━━━━━━━━━━━━━━━━━━━\u001b[0m \u001b[32m78.6/78.6 kB\u001b[0m \u001b[31m10.8 MB/s\u001b[0m eta \u001b[36m0:00:00\u001b[0m\n",
            "\u001b[?25h  Preparing metadata (setup.py) ... \u001b[?25l\u001b[?25hdone\n",
            "\u001b[2K     \u001b[90m━━━━━━━━━━━━━━━━━━━━━━━━━━━━━━━━━━━━━━━━\u001b[0m \u001b[32m204.2/204.2 kB\u001b[0m \u001b[31m21.2 MB/s\u001b[0m eta \u001b[36m0:00:00\u001b[0m\n",
            "\u001b[2K     \u001b[90m━━━━━━━━━━━━━━━━━━━━━━━━━━━━━━━━━━━━━━━━\u001b[0m \u001b[32m3.5/3.5 MB\u001b[0m \u001b[31m55.9 MB/s\u001b[0m eta \u001b[36m0:00:00\u001b[0m\n",
            "\u001b[2K     \u001b[90m━━━━━━━━━━━━━━━━━━━━━━━━━━━━━━━━━━━━━━━━\u001b[0m \u001b[32m1.6/1.6 MB\u001b[0m \u001b[31m82.4 MB/s\u001b[0m eta \u001b[36m0:00:00\u001b[0m\n",
            "\u001b[2K     \u001b[90m━━━━━━━━━━━━━━━━━━━━━━━━━━━━━━━━━━━━━━━━\u001b[0m \u001b[32m99.0/99.0 kB\u001b[0m \u001b[31m14.4 MB/s\u001b[0m eta \u001b[36m0:00:00\u001b[0m\n",
            "\u001b[2K     \u001b[90m━━━━━━━━━━━━━━━━━━━━━━━━━━━━━━━━━━━━━━━━\u001b[0m \u001b[32m3.9/3.9 MB\u001b[0m \u001b[31m94.7 MB/s\u001b[0m eta \u001b[36m0:00:00\u001b[0m\n",
            "\u001b[2K     \u001b[90m━━━━━━━━━━━━━━━━━━━━━━━━━━━━━━━━━━━━━━━━\u001b[0m \u001b[32m30.8/30.8 MB\u001b[0m \u001b[31m56.2 MB/s\u001b[0m eta \u001b[36m0:00:00\u001b[0m\n",
            "\u001b[2K     \u001b[90m━━━━━━━━━━━━━━━━━━━━━━━━━━━━━━━━━━━━━━━━\u001b[0m \u001b[32m177.4/177.4 kB\u001b[0m \u001b[31m23.0 MB/s\u001b[0m eta \u001b[36m0:00:00\u001b[0m\n",
            "\u001b[2K     \u001b[90m━━━━━━━━━━━━━━━━━━━━━━━━━━━━━━━━━━━━━━━━\u001b[0m \u001b[32m3.4/3.4 MB\u001b[0m \u001b[31m108.6 MB/s\u001b[0m eta \u001b[36m0:00:00\u001b[0m\n",
            "\u001b[2K     \u001b[90m━━━━━━━━━━━━━━━━━━━━━━━━━━━━━━━━━━━━━━━━\u001b[0m \u001b[32m468.9/468.9 kB\u001b[0m \u001b[31m47.8 MB/s\u001b[0m eta \u001b[36m0:00:00\u001b[0m\n",
            "\u001b[?25h  Building wheel for typing (setup.py) ... \u001b[?25l\u001b[?25hdone\n",
            "\u001b[2K     \u001b[90m━━━━━━━━━━━━━━━━━━━━━━━━━━━━━━━━━━━━━━━━\u001b[0m \u001b[32m2.2/2.2 MB\u001b[0m \u001b[31m22.3 MB/s\u001b[0m eta \u001b[36m0:00:00\u001b[0m\n",
            "\u001b[2K     \u001b[90m━━━━━━━━━━━━━━━━━━━━━━━━━━━━━━━━━━━━━━━━\u001b[0m \u001b[32m207.3/207.3 kB\u001b[0m \u001b[31m25.8 MB/s\u001b[0m eta \u001b[36m0:00:00\u001b[0m\n",
            "\u001b[2K     \u001b[90m━━━━━━━━━━━━━━━━━━━━━━━━━━━━━━━━━━━━━━━━\u001b[0m \u001b[32m266.8/266.8 kB\u001b[0m \u001b[31m32.1 MB/s\u001b[0m eta \u001b[36m0:00:00\u001b[0m\n",
            "\u001b[2K     \u001b[90m━━━━━━━━━━━━━━━━━━━━━━━━━━━━━━━━━━━━━━━━\u001b[0m \u001b[32m62.7/62.7 kB\u001b[0m \u001b[31m9.6 MB/s\u001b[0m eta \u001b[36m0:00:00\u001b[0m\n",
            "\u001b[?25h"
          ]
        },
        {
          "output_type": "display_data",
          "data": {
            "text/plain": [
              "cuda\n"
            ],
            "text/html": [
              "<pre style=\"white-space:pre;overflow-x:auto;line-height:normal;font-family:Menlo,'DejaVu Sans Mono',consolas,'Courier New',monospace\">cuda\n",
              "</pre>\n"
            ]
          },
          "metadata": {}
        }
      ],
      "source": [
        "!pip install -q torch_snippets\n",
        "!pip install wandb -qU\n",
        "from torch_snippets import *\n",
        "import torch\n",
        "import random\n",
        "from PIL import Image\n",
        "from torch.utils.data import Dataset, DataLoader\n",
        "from torchvision import models\n",
        "from torchvision.models.detection.faster_rcnn import FastRCNNPredictor\n",
        "from xml.etree import ElementTree as et\n",
        "import numpy as np\n",
        "import wandb\n",
        "import math\n",
        "device = 'cuda' if torch.cuda.is_available() else 'cpu'\n",
        "print(device)\n",
        "\n"
      ]
    },
    {
      "cell_type": "code",
      "execution_count": 6,
      "metadata": {
        "colab": {
          "base_uri": "https://localhost:8080/"
        },
        "id": "ibza0K8lMvgw",
        "outputId": "3bc40ba6-ca6a-479f-d3d1-85f83901f733"
      },
      "outputs": [
        {
          "output_type": "stream",
          "name": "stdout",
          "text": [
            "/content/drive/MyDrive/Colab Notebooks\n"
          ]
        }
      ],
      "source": [
        "!pwd"
      ]
    },
    {
      "cell_type": "code",
      "execution_count": 7,
      "metadata": {
        "id": "TNBlCXmWLtCa"
      },
      "outputs": [],
      "source": [
        "root = 'fruit-images-for-object-detection/train_zip/train/'\n",
        "\n",
        "# we have four labels\n",
        "labels = ['background', 'orange', 'apple', 'banana']\n",
        "label2targets = {l: t for t, l in enumerate(labels)}\n",
        "targets2label = {t: l for l, t in label2targets.items()}\n",
        "num_classes = len(targets2label)"
      ]
    },
    {
      "cell_type": "code",
      "execution_count": 8,
      "metadata": {
        "colab": {
          "base_uri": "https://localhost:8080/",
          "height": 177
        },
        "id": "PelN-DsDP-Nf",
        "outputId": "5f333322-4a73-4a8c-cb86-52c4d1776b6e"
      },
      "outputs": [
        {
          "output_type": "display_data",
          "data": {
            "text/plain": [
              "<IPython.core.display.Javascript object>"
            ],
            "application/javascript": [
              "\n",
              "        window._wandbApiKey = new Promise((resolve, reject) => {\n",
              "            function loadScript(url) {\n",
              "            return new Promise(function(resolve, reject) {\n",
              "                let newScript = document.createElement(\"script\");\n",
              "                newScript.onerror = reject;\n",
              "                newScript.onload = resolve;\n",
              "                document.body.appendChild(newScript);\n",
              "                newScript.src = url;\n",
              "            });\n",
              "            }\n",
              "            loadScript(\"https://cdn.jsdelivr.net/npm/postmate/build/postmate.min.js\").then(() => {\n",
              "            const iframe = document.createElement('iframe')\n",
              "            iframe.style.cssText = \"width:0;height:0;border:none\"\n",
              "            document.body.appendChild(iframe)\n",
              "            const handshake = new Postmate({\n",
              "                container: iframe,\n",
              "                url: 'https://wandb.ai/authorize'\n",
              "            });\n",
              "            const timeout = setTimeout(() => reject(\"Couldn't auto authenticate\"), 5000)\n",
              "            handshake.then(function(child) {\n",
              "                child.on('authorize', data => {\n",
              "                    clearTimeout(timeout)\n",
              "                    resolve(data)\n",
              "                });\n",
              "            });\n",
              "            })\n",
              "        });\n",
              "    "
            ]
          },
          "metadata": {}
        },
        {
          "output_type": "stream",
          "name": "stderr",
          "text": [
            "\u001b[34m\u001b[1mwandb\u001b[0m: Appending key for api.wandb.ai to your netrc file: /root/.netrc\n",
            "\u001b[34m\u001b[1mwandb\u001b[0m: Currently logged in as: \u001b[33mysnnsl51\u001b[0m (\u001b[33munsal\u001b[0m). Use \u001b[1m`wandb login --relogin`\u001b[0m to force relogin\n"
          ]
        },
        {
          "output_type": "display_data",
          "data": {
            "text/plain": [
              "<IPython.core.display.HTML object>"
            ],
            "text/html": [
              "Tracking run with wandb version 0.16.6"
            ]
          },
          "metadata": {}
        },
        {
          "output_type": "display_data",
          "data": {
            "text/plain": [
              "<IPython.core.display.HTML object>"
            ],
            "text/html": [
              "Run data is saved locally in <code>/content/drive/MyDrive/Colab Notebooks/wandb/run-20240503_135610-ka19uv7w</code>"
            ]
          },
          "metadata": {}
        },
        {
          "output_type": "display_data",
          "data": {
            "text/plain": [
              "<IPython.core.display.HTML object>"
            ],
            "text/html": [
              "Syncing run <strong><a href='https://wandb.ai/unsal/faster_rcnn_112_112/runs/ka19uv7w' target=\"_blank\">snowy-music-3</a></strong> to <a href='https://wandb.ai/unsal/faster_rcnn_112_112' target=\"_blank\">Weights & Biases</a> (<a href='https://wandb.me/run' target=\"_blank\">docs</a>)<br/>"
            ]
          },
          "metadata": {}
        },
        {
          "output_type": "display_data",
          "data": {
            "text/plain": [
              "<IPython.core.display.HTML object>"
            ],
            "text/html": [
              " View project at <a href='https://wandb.ai/unsal/faster_rcnn_112_112' target=\"_blank\">https://wandb.ai/unsal/faster_rcnn_112_112</a>"
            ]
          },
          "metadata": {}
        },
        {
          "output_type": "display_data",
          "data": {
            "text/plain": [
              "<IPython.core.display.HTML object>"
            ],
            "text/html": [
              " View run at <a href='https://wandb.ai/unsal/faster_rcnn_112_112/runs/ka19uv7w' target=\"_blank\">https://wandb.ai/unsal/faster_rcnn_112_112/runs/ka19uv7w</a>"
            ]
          },
          "metadata": {}
        },
        {
          "output_type": "execute_result",
          "data": {
            "text/html": [
              "<button onClick=\"this.nextSibling.style.display='block';this.style.display='none';\">Display W&B run</button><iframe src='https://wandb.ai/unsal/faster_rcnn_112_112/runs/ka19uv7w?jupyter=true' style='border:none;width:100%;height:420px;display:none;'></iframe>"
            ],
            "text/plain": [
              "<wandb.sdk.wandb_run.Run at 0x7e67b28db280>"
            ]
          },
          "metadata": {},
          "execution_count": 8
        }
      ],
      "source": [
        "wandb.login()\n",
        "wandb.init(project='faster_rcnn_112_112')\n",
        "\n"
      ]
    },
    {
      "cell_type": "code",
      "execution_count": 9,
      "metadata": {
        "id": "0ZKzT5uwMPfS"
      },
      "outputs": [],
      "source": [
        "def preprocess_img(img):\n",
        "    img = torch.tensor(img).permute(2, 0 ,1)\n",
        "    return img.to(device).float()\n",
        "\n",
        "class FruitsDataset(Dataset):\n",
        "    def __init__(self, root=root, transforms=None):\n",
        "        self.root = root\n",
        "        self.transforms = transforms\n",
        "        self.img_paths = sorted(Glob(self.root + '/*.jpg'))\n",
        "        self.xlm_paths = sorted(Glob(self.root + '/*.xml'))\n",
        "\n",
        "    def __len__(self):\n",
        "        return len(self.img_paths)\n",
        "\n",
        "    def __getitem__(self, idx):\n",
        "        w, h = 112, 112\n",
        "        img_path = self.img_paths[idx]\n",
        "        xlm_path = self.xlm_paths[idx]\n",
        "        img = Image.open(img_path).convert('RGB')\n",
        "        W, H = img.size\n",
        "        img = np.array(img.resize((w, h), resample=Image.BILINEAR))/255.\n",
        "        xlm = et.parse(xlm_path)\n",
        "        objects = xlm.findall('object')\n",
        "        labels = []\n",
        "        boxes = []\n",
        "        for obj in objects:\n",
        "            label = obj.find('name').text\n",
        "            labels.append(label)\n",
        "            XMin = float(obj.find('bndbox').find('xmin').text)\n",
        "            YMin = float(obj.find('bndbox').find('ymin').text)\n",
        "            XMax = float(obj.find('bndbox').find('xmax').text)\n",
        "            YMax = float(obj.find('bndbox').find('ymax').text)\n",
        "            bbox = [XMin / W, YMin / H, XMax / W, YMax / H]\n",
        "            bbox = (bbox * np.array([w, h, w, h])).astype(np.int16).tolist()\n",
        "            boxes.append(bbox)\n",
        "        target = {}\n",
        "        target['labels'] = torch.tensor([label2targets[label] for label in labels]).long()\n",
        "        target['boxes'] = torch.tensor(boxes).float()\n",
        "        img = preprocess_img(img)\n",
        "        return img, target\n",
        "\n",
        "    def collate_fn(self, batch):\n",
        "        return tuple(zip(*batch))\n",
        "\n",
        "val_root = 'fruit-images-for-object-detection/test_zip/test/'\n",
        "\n",
        "tr_ds = FruitsDataset()\n",
        "tr_dl = DataLoader(tr_ds, batch_size=4, shuffle=True, collate_fn=tr_ds.collate_fn)\n",
        "\n",
        "val_ds = FruitsDataset(root=val_root)\n",
        "val_dl = DataLoader(val_ds, batch_size=2, shuffle=True, collate_fn=val_ds.collate_fn)\n"
      ]
    },
    {
      "cell_type": "code",
      "execution_count": 10,
      "metadata": {
        "colab": {
          "base_uri": "https://localhost:8080/"
        },
        "id": "kSBdLUJYSlKk",
        "outputId": "43d98dde-a550-4e6d-a784-eb8915502a8e"
      },
      "outputs": [
        {
          "output_type": "stream",
          "name": "stderr",
          "text": [
            "/usr/local/lib/python3.10/dist-packages/torchvision/models/_utils.py:208: UserWarning: The parameter 'pretrained' is deprecated since 0.13 and may be removed in the future, please use 'weights' instead.\n",
            "  warnings.warn(\n",
            "/usr/local/lib/python3.10/dist-packages/torchvision/models/_utils.py:223: UserWarning: Arguments other than a weight enum or `None` for 'weights' are deprecated since 0.13 and may be removed in the future. The current behavior is equivalent to passing `weights=FasterRCNN_ResNet50_FPN_Weights.COCO_V1`. You can also use `weights=FasterRCNN_ResNet50_FPN_Weights.DEFAULT` to get the most up-to-date weights.\n",
            "  warnings.warn(msg)\n",
            "Downloading: \"https://download.pytorch.org/models/fasterrcnn_resnet50_fpn_coco-258fb6c6.pth\" to /root/.cache/torch/hub/checkpoints/fasterrcnn_resnet50_fpn_coco-258fb6c6.pth\n",
            "100%|██████████| 160M/160M [00:03<00:00, 45.9MB/s]\n"
          ]
        },
        {
          "output_type": "execute_result",
          "data": {
            "text/plain": [
              "{'loss_classifier': tensor(1.7563, device='cuda:0', grad_fn=<NllLossBackward0>),\n",
              " 'loss_box_reg': tensor(0.2758, device='cuda:0', grad_fn=<DivBackward0>),\n",
              " 'loss_objectness': tensor(0.0075, device='cuda:0',\n",
              "        grad_fn=<BinaryCrossEntropyWithLogitsBackward0>),\n",
              " 'loss_rpn_box_reg': tensor(0.0057, device='cuda:0', grad_fn=<DivBackward0>)}"
            ]
          },
          "metadata": {},
          "execution_count": 10
        }
      ],
      "source": [
        "def get_model():\n",
        "    model = models.detection.fasterrcnn_resnet50_fpn(pretrained=True)\n",
        "    in_features = model.roi_heads.box_predictor.cls_score.in_features\n",
        "    #print(in_features)\n",
        "    model.roi_heads.box_predictor = FastRCNNPredictor(in_features, num_classes)\n",
        "    return model\n",
        "\n",
        "\n",
        "\n",
        "# test the model\n",
        "imgs, targets = next(iter(tr_dl))\n",
        "imgs = list(img.to(device) for img in imgs)\n",
        "targets = [{k: v.to(device) for k, v in t.items()} for t in targets]\n",
        "\n",
        "model = get_model().to(device)\n",
        "model(imgs, targets)\n"
      ]
    },
    {
      "cell_type": "code",
      "execution_count": 11,
      "metadata": {
        "id": "wko6hJHjSsmP"
      },
      "outputs": [],
      "source": [
        "model = get_model().to(device)\n",
        "optim = torch.optim.SGD(model.parameters(), lr=0.005, weight_decay=5e-4, momentum=0.9)\n",
        "\n",
        "def train_batch(batch, model, optim):\n",
        "    model.train()\n",
        "    imgs, targets = batch\n",
        "    imgs = list(img.to(device) for img in imgs)\n",
        "    targets = [{k: v.to(device) for k, v in t.items()} for t in targets]\n",
        "    optim.zero_grad()\n",
        "    losses = model(imgs, targets)\n",
        "    loss = sum(loss for loss in losses.values())\n",
        "    loss.backward()\n",
        "    optim.step()\n",
        "\n",
        "\n",
        "    return loss, losses\n",
        "\n",
        "@torch.no_grad()\n",
        "def validate_batch(batch, model, optim):\n",
        "    model.train()\n",
        "    imgs, targets = batch\n",
        "    imgs = list(img.to(device) for img in imgs)\n",
        "    targets = [{k: v.to(device) for k, v in t.items()} for t in targets]\n",
        "    optim.zero_grad()\n",
        "    losses = model(imgs, targets)\n",
        "    loss = sum(loss for loss in losses.values())\n",
        "    return loss, losses\n",
        "\n",
        "model = get_model().to(device)\n",
        "optim = torch.optim.SGD(model.parameters(), lr=0.005, weight_decay=5e-4, momentum=0.9)\n",
        "\n",
        "\n"
      ]
    },
    {
      "cell_type": "code",
      "execution_count": 13,
      "metadata": {
        "colab": {
          "base_uri": "https://localhost:8080/",
          "height": 1000,
          "referenced_widgets": [
            "11d0891ee98d49dfa6da255ef8601d4e",
            "f0fe70946f9244a498f4acc4b6f5d382",
            "5ed8b1b1b3d24d4e9144ade55ca96e70",
            "86c5df9347394eeeb9d2d148035a0b5e",
            "cdddb59af32d444e839112f75b0c593e",
            "8d5d67a2f9d74f1ead99af5a6da17c5a",
            "e7fe96bd1f2b48a1a9556943758c0173",
            "63b51ee024d243729e5d83ce91525810"
          ]
        },
        "id": "Oz2ORs_HvHrN",
        "outputId": "6f823267-79f1-4c09-b63f-d5327384a312"
      },
      "outputs": [
        {
          "output_type": "stream",
          "name": "stdout",
          "text": [
            "EPOCH: 0.017  trn_loss: 0.636  trn_loc_loss: 0.405  trn_regr_loss: 0.226  trn_loss_objectness: 0.001  trn_loss_rpn_box_reg: 0.004  (0.85s - 254.08s remaining)\n",
            "EPOCH: 0.033  trn_loss: 1.242  trn_loc_loss: 0.570  trn_regr_loss: 0.622  trn_loss_objectness: 0.014  trn_loss_rpn_box_reg: 0.036  (2.39s - 356.08s remaining)\n",
            "EPOCH: 0.050  trn_loss: 0.668  trn_loc_loss: 0.359  trn_regr_loss: 0.295  trn_loss_objectness: 0.010  trn_loss_rpn_box_reg: 0.004  (3.16s - 313.26s remaining)\n",
            "EPOCH: 0.067  trn_loss: 0.514  trn_loc_loss: 0.283  trn_regr_loss: 0.222  trn_loss_objectness: 0.004  trn_loss_rpn_box_reg: 0.005  (3.93s - 291.15s remaining)\n",
            "EPOCH: 0.083  trn_loss: 0.792  trn_loc_loss: 0.399  trn_regr_loss: 0.371  trn_loss_objectness: 0.011  trn_loss_rpn_box_reg: 0.011  (4.73s - 278.94s remaining)\n",
            "EPOCH: 0.100  trn_loss: 0.455  trn_loc_loss: 0.203  trn_regr_loss: 0.248  trn_loss_objectness: 0.000  trn_loss_rpn_box_reg: 0.003  (5.52s - 270.40s remaining)\n",
            "EPOCH: 0.117  trn_loss: 0.577  trn_loc_loss: 0.246  trn_regr_loss: 0.314  trn_loss_objectness: 0.007  trn_loss_rpn_box_reg: 0.010  (6.27s - 262.40s remaining)\n",
            "EPOCH: 0.133  trn_loss: 0.551  trn_loc_loss: 0.221  trn_regr_loss: 0.306  trn_loss_objectness: 0.018  trn_loss_rpn_box_reg: 0.006  (7.81s - 285.21s remaining)\n",
            "EPOCH: 0.150  trn_loss: 0.641  trn_loc_loss: 0.252  trn_regr_loss: 0.373  trn_loss_objectness: 0.009  trn_loss_rpn_box_reg: 0.008  (8.57s - 277.15s remaining)\n",
            "EPOCH: 0.167  trn_loss: 0.450  trn_loc_loss: 0.179  trn_regr_loss: 0.235  trn_loss_objectness: 0.019  trn_loss_rpn_box_reg: 0.018  (9.38s - 272.02s remaining)\n"
          ]
        },
        {
          "output_type": "stream",
          "name": "stderr",
          "text": [
            "/usr/local/lib/python3.10/dist-packages/PIL/Image.py:996: UserWarning: Palette images with Transparency expressed in bytes should be converted to RGBA images\n",
            "  warnings.warn(\n"
          ]
        },
        {
          "output_type": "stream",
          "name": "stdout",
          "text": [
            "EPOCH: 0.183  trn_loss: 0.266  trn_loc_loss: 0.098  trn_regr_loss: 0.128  trn_loss_objectness: 0.036  trn_loss_rpn_box_reg: 0.004  (10.15s - 266.66s remaining)\n",
            "EPOCH: 0.200  trn_loss: 0.397  trn_loc_loss: 0.155  trn_regr_loss: 0.217  trn_loss_objectness: 0.017  trn_loss_rpn_box_reg: 0.008  (10.92s - 262.06s remaining)\n",
            "EPOCH: 0.217  trn_loss: 0.399  trn_loc_loss: 0.152  trn_regr_loss: 0.217  trn_loss_objectness: 0.022  trn_loss_rpn_box_reg: 0.008  (11.69s - 258.07s remaining)\n",
            "EPOCH: 0.233  trn_loss: 0.435  trn_loc_loss: 0.172  trn_regr_loss: 0.245  trn_loss_objectness: 0.010  trn_loss_rpn_box_reg: 0.008  (12.46s - 254.54s remaining)\n",
            "EPOCH: 0.250  trn_loss: 0.249  trn_loc_loss: 0.092  trn_regr_loss: 0.147  trn_loss_objectness: 0.004  trn_loss_rpn_box_reg: 0.006  (13.26s - 251.89s remaining)\n",
            "EPOCH: 0.267  trn_loss: 0.386  trn_loc_loss: 0.149  trn_regr_loss: 0.224  trn_loss_objectness: 0.012  trn_loss_rpn_box_reg: 0.002  (14.51s - 257.53s remaining)\n",
            "EPOCH: 0.283  trn_loss: 0.319  trn_loc_loss: 0.116  trn_regr_loss: 0.193  trn_loss_objectness: 0.004  trn_loss_rpn_box_reg: 0.006  (15.28s - 254.39s remaining)\n",
            "EPOCH: 0.300  trn_loss: 0.249  trn_loc_loss: 0.087  trn_regr_loss: 0.159  trn_loss_objectness: 0.001  trn_loss_rpn_box_reg: 0.002  (16.07s - 251.71s remaining)\n",
            "EPOCH: 0.317  trn_loss: 0.173  trn_loc_loss: 0.063  trn_regr_loss: 0.097  trn_loss_objectness: 0.012  trn_loss_rpn_box_reg: 0.002  (16.83s - 248.91s remaining)\n",
            "EPOCH: 0.333  trn_loss: 0.338  trn_loc_loss: 0.143  trn_regr_loss: 0.189  trn_loss_objectness: 0.002  trn_loss_rpn_box_reg: 0.004  (18.22s - 255.01s remaining)\n",
            "EPOCH: 0.350  trn_loss: 0.860  trn_loc_loss: 0.363  trn_regr_loss: 0.481  trn_loss_objectness: 0.008  trn_loss_rpn_box_reg: 0.008  (19.05s - 253.06s remaining)\n",
            "EPOCH: 0.367  trn_loss: 0.209  trn_loc_loss: 0.073  trn_regr_loss: 0.124  trn_loss_objectness: 0.004  trn_loss_rpn_box_reg: 0.007  (21.85s - 276.16s remaining)\n",
            "EPOCH: 0.383  trn_loss: 0.225  trn_loc_loss: 0.080  trn_regr_loss: 0.142  trn_loss_objectness: 0.002  trn_loss_rpn_box_reg: 0.002  (23.20s - 279.35s remaining)\n",
            "EPOCH: 0.400  trn_loss: 0.166  trn_loc_loss: 0.068  trn_regr_loss: 0.093  trn_loss_objectness: 0.001  trn_loss_rpn_box_reg: 0.003  (24.50s - 281.74s remaining)\n",
            "EPOCH: 0.417  trn_loss: 0.764  trn_loc_loss: 0.309  trn_regr_loss: 0.429  trn_loss_objectness: 0.016  trn_loss_rpn_box_reg: 0.010  (25.28s - 278.04s remaining)\n",
            "EPOCH: 0.433  trn_loss: 0.368  trn_loc_loss: 0.135  trn_regr_loss: 0.214  trn_loss_objectness: 0.012  trn_loss_rpn_box_reg: 0.007  (26.55s - 279.77s remaining)\n",
            "EPOCH: 0.450  trn_loss: 0.150  trn_loc_loss: 0.074  trn_regr_loss: 0.072  trn_loss_objectness: 0.001  trn_loss_rpn_box_reg: 0.003  (27.33s - 276.38s remaining)\n",
            "EPOCH: 0.467  trn_loss: 0.494  trn_loc_loss: 0.182  trn_regr_loss: 0.305  trn_loss_objectness: 0.002  trn_loss_rpn_box_reg: 0.005  (30.21s - 293.46s remaining)\n",
            "EPOCH: 0.483  trn_loss: 0.212  trn_loc_loss: 0.085  trn_regr_loss: 0.115  trn_loss_objectness: 0.006  trn_loss_rpn_box_reg: 0.007  (30.99s - 289.56s remaining)\n",
            "EPOCH: 0.500  trn_loss: 0.402  trn_loc_loss: 0.155  trn_regr_loss: 0.234  trn_loss_objectness: 0.002  trn_loss_rpn_box_reg: 0.011  (31.77s - 285.95s remaining)\n",
            "EPOCH: 0.517  trn_loss: 0.344  trn_loc_loss: 0.141  trn_regr_loss: 0.195  trn_loss_objectness: 0.001  trn_loss_rpn_box_reg: 0.006  (32.56s - 282.54s remaining)\n",
            "EPOCH: 0.533  trn_loss: 0.372  trn_loc_loss: 0.142  trn_regr_loss: 0.210  trn_loss_objectness: 0.007  trn_loss_rpn_box_reg: 0.013  (33.38s - 279.59s remaining)\n",
            "EPOCH: 0.550  trn_loss: 0.283  trn_loc_loss: 0.094  trn_regr_loss: 0.184  trn_loss_objectness: 0.001  trn_loss_rpn_box_reg: 0.005  (35.43s - 286.63s remaining)\n",
            "EPOCH: 0.567  trn_loss: 0.284  trn_loc_loss: 0.122  trn_regr_loss: 0.157  trn_loss_objectness: 0.000  trn_loss_rpn_box_reg: 0.004  (36.28s - 283.84s remaining)\n",
            "EPOCH: 0.583  trn_loss: 0.426  trn_loc_loss: 0.187  trn_regr_loss: 0.206  trn_loss_objectness: 0.025  trn_loss_rpn_box_reg: 0.008  (37.07s - 280.70s remaining)\n",
            "EPOCH: 0.600  trn_loss: 0.600  trn_loc_loss: 0.290  trn_regr_loss: 0.283  trn_loss_objectness: 0.020  trn_loss_rpn_box_reg: 0.007  (37.88s - 277.79s remaining)\n",
            "EPOCH: 0.617  trn_loss: 0.156  trn_loc_loss: 0.069  trn_regr_loss: 0.073  trn_loss_objectness: 0.008  trn_loss_rpn_box_reg: 0.006  (39.86s - 283.33s remaining)\n",
            "EPOCH: 0.633  trn_loss: 0.419  trn_loc_loss: 0.133  trn_regr_loss: 0.274  trn_loss_objectness: 0.004  trn_loss_rpn_box_reg: 0.008  (40.67s - 280.40s remaining)\n",
            "EPOCH: 0.650  trn_loss: 0.195  trn_loc_loss: 0.082  trn_regr_loss: 0.099  trn_loss_objectness: 0.012  trn_loss_rpn_box_reg: 0.003  (41.46s - 277.46s remaining)\n",
            "EPOCH: 0.667  trn_loss: 0.277  trn_loc_loss: 0.116  trn_regr_loss: 0.153  trn_loss_objectness: 0.002  trn_loss_rpn_box_reg: 0.006  (42.26s - 274.68s remaining)\n",
            "EPOCH: 0.683  trn_loss: 0.296  trn_loc_loss: 0.124  trn_regr_loss: 0.170  trn_loss_objectness: 0.000  trn_loss_rpn_box_reg: 0.002  (43.05s - 271.95s remaining)\n",
            "EPOCH: 0.700  trn_loss: 0.381  trn_loc_loss: 0.135  trn_regr_loss: 0.221  trn_loss_objectness: 0.006  trn_loss_rpn_box_reg: 0.019  (45.01s - 276.49s remaining)\n",
            "EPOCH: 0.717  trn_loss: 0.347  trn_loc_loss: 0.137  trn_regr_loss: 0.200  trn_loss_objectness: 0.007  trn_loss_rpn_box_reg: 0.004  (45.82s - 273.83s remaining)\n",
            "EPOCH: 0.733  trn_loss: 0.262  trn_loc_loss: 0.099  trn_regr_loss: 0.156  trn_loss_objectness: 0.004  trn_loss_rpn_box_reg: 0.004  (46.62s - 271.22s remaining)\n",
            "EPOCH: 0.750  trn_loss: 0.441  trn_loc_loss: 0.137  trn_regr_loss: 0.264  trn_loss_objectness: 0.028  trn_loss_rpn_box_reg: 0.012  (47.43s - 268.77s remaining)\n",
            "EPOCH: 0.767  trn_loss: 0.207  trn_loc_loss: 0.085  trn_regr_loss: 0.118  trn_loss_objectness: 0.000  trn_loss_rpn_box_reg: 0.003  (48.27s - 266.52s remaining)\n",
            "EPOCH: 0.783  trn_loss: 0.358  trn_loc_loss: 0.132  trn_regr_loss: 0.213  trn_loss_objectness: 0.008  trn_loss_rpn_box_reg: 0.005  (49.07s - 264.13s remaining)\n",
            "EPOCH: 0.800  trn_loss: 0.349  trn_loc_loss: 0.134  trn_regr_loss: 0.208  trn_loss_objectness: 0.000  trn_loss_rpn_box_reg: 0.006  (50.74s - 266.39s remaining)\n",
            "EPOCH: 0.817  trn_loss: 0.286  trn_loc_loss: 0.125  trn_regr_loss: 0.149  trn_loss_objectness: 0.008  trn_loss_rpn_box_reg: 0.005  (51.61s - 264.39s remaining)\n",
            "EPOCH: 0.833  trn_loss: 0.215  trn_loc_loss: 0.083  trn_regr_loss: 0.130  trn_loss_objectness: 0.000  trn_loss_rpn_box_reg: 0.002  (52.42s - 262.08s remaining)\n",
            "EPOCH: 0.850  trn_loss: 0.226  trn_loc_loss: 0.107  trn_regr_loss: 0.115  trn_loss_objectness: 0.001  trn_loss_rpn_box_reg: 0.003  (53.22s - 259.83s remaining)\n",
            "EPOCH: 0.867  trn_loss: 0.451  trn_loc_loss: 0.153  trn_regr_loss: 0.283  trn_loss_objectness: 0.007  trn_loss_rpn_box_reg: 0.008  (54.03s - 257.69s remaining)\n",
            "EPOCH: 0.883  trn_loss: 0.190  trn_loc_loss: 0.083  trn_regr_loss: 0.104  trn_loss_objectness: 0.000  trn_loss_rpn_box_reg: 0.004  (54.87s - 255.73s remaining)\n",
            "EPOCH: 0.900  trn_loss: 0.363  trn_loc_loss: 0.123  trn_regr_loss: 0.224  trn_loss_objectness: 0.009  trn_loss_rpn_box_reg: 0.007  (55.71s - 253.77s remaining)\n",
            "EPOCH: 0.917  trn_loss: 0.114  trn_loc_loss: 0.046  trn_regr_loss: 0.065  trn_loss_objectness: 0.001  trn_loss_rpn_box_reg: 0.002  (56.51s - 251.75s remaining)\n",
            "EPOCH: 0.933  trn_loss: 0.331  trn_loc_loss: 0.135  trn_regr_loss: 0.182  trn_loss_objectness: 0.010  trn_loss_rpn_box_reg: 0.005  (57.33s - 249.79s remaining)\n",
            "EPOCH: 0.950  trn_loss: 0.236  trn_loc_loss: 0.069  trn_regr_loss: 0.137  trn_loss_objectness: 0.018  trn_loss_rpn_box_reg: 0.012  (58.13s - 247.84s remaining)\n",
            "EPOCH: 0.967  trn_loss: 0.304  trn_loc_loss: 0.088  trn_regr_loss: 0.210  trn_loss_objectness: 0.000  trn_loss_rpn_box_reg: 0.006  (58.97s - 246.03s remaining)\n",
            "EPOCH: 0.983  trn_loss: 0.216  trn_loc_loss: 0.071  trn_regr_loss: 0.142  trn_loss_objectness: 0.001  trn_loss_rpn_box_reg: 0.002  (59.79s - 244.24s remaining)\n",
            "EPOCH: 1.000  trn_loss: 0.184  trn_loc_loss: 0.053  trn_regr_loss: 0.106  trn_loss_objectness: 0.023  trn_loss_rpn_box_reg: 0.002  (61.03s - 244.13s remaining)\n",
            "EPOCH: 0.033  val_loss: 0.069  val_loc_loss: 0.012  val_regr_loss: 0.033  val_loss_objectness: 0.005  val_loss_rpn_box_reg: 0.019  (63.86s - 9515.13s remaining)\n",
            "EPOCH: 0.067  val_loss: 0.066  val_loc_loss: 0.022  val_regr_loss: 0.039  val_loss_objectness: 0.004  val_loss_rpn_box_reg: 0.001  (66.56s - 4925.77s remaining)\n",
            "EPOCH: 0.100  val_loss: 0.058  val_loc_loss: 0.010  val_regr_loss: 0.032  val_loss_objectness: 0.004  val_loss_rpn_box_reg: 0.012  (69.72s - 3416.19s remaining)\n",
            "EPOCH: 0.133  val_loss: 0.222  val_loc_loss: 0.080  val_regr_loss: 0.128  val_loss_objectness: 0.008  val_loss_rpn_box_reg: 0.006  (72.41s - 2642.81s remaining)\n",
            "EPOCH: 0.167  val_loss: 0.731  val_loc_loss: 0.330  val_regr_loss: 0.388  val_loss_objectness: 0.003  val_loss_rpn_box_reg: 0.010  (75.02s - 2175.70s remaining)\n",
            "EPOCH: 0.200  val_loss: 0.188  val_loc_loss: 0.083  val_regr_loss: 0.096  val_loss_objectness: 0.006  val_loss_rpn_box_reg: 0.002  (77.79s - 1867.05s remaining)\n",
            "EPOCH: 0.233  val_loss: 0.400  val_loc_loss: 0.168  val_regr_loss: 0.221  val_loss_objectness: 0.007  val_loss_rpn_box_reg: 0.004  (80.64s - 1647.34s remaining)\n",
            "EPOCH: 0.267  val_loss: 0.282  val_loc_loss: 0.098  val_regr_loss: 0.173  val_loss_objectness: 0.006  val_loss_rpn_box_reg: 0.006  (83.70s - 1485.63s remaining)\n",
            "EPOCH: 0.300  val_loss: 0.138  val_loc_loss: 0.050  val_regr_loss: 0.085  val_loss_objectness: 0.001  val_loss_rpn_box_reg: 0.002  (86.45s - 1354.32s remaining)\n",
            "EPOCH: 0.333  val_loss: 0.081  val_loc_loss: 0.022  val_regr_loss: 0.056  val_loss_objectness: 0.003  val_loss_rpn_box_reg: 0.001  (89.24s - 1249.30s remaining)\n",
            "EPOCH: 0.367  val_loss: 0.085  val_loc_loss: 0.028  val_regr_loss: 0.044  val_loss_objectness: 0.001  val_loss_rpn_box_reg: 0.013  (92.06s - 1163.36s remaining)\n",
            "EPOCH: 0.400  val_loss: 0.120  val_loc_loss: 0.050  val_regr_loss: 0.061  val_loss_objectness: 0.002  val_loss_rpn_box_reg: 0.006  (94.71s - 1089.20s remaining)\n",
            "EPOCH: 0.433  val_loss: 0.363  val_loc_loss: 0.172  val_regr_loss: 0.181  val_loss_objectness: 0.002  val_loss_rpn_box_reg: 0.008  (97.29s - 1025.32s remaining)\n",
            "EPOCH: 0.467  val_loss: 0.221  val_loc_loss: 0.087  val_regr_loss: 0.126  val_loss_objectness: 0.005  val_loss_rpn_box_reg: 0.002  (100.29s - 974.28s remaining)\n",
            "EPOCH: 0.500  val_loss: 0.226  val_loc_loss: 0.067  val_regr_loss: 0.145  val_loss_objectness: 0.001  val_loss_rpn_box_reg: 0.013  (103.24s - 929.13s remaining)\n",
            "EPOCH: 0.533  val_loss: 0.484  val_loc_loss: 0.151  val_regr_loss: 0.299  val_loss_objectness: 0.018  val_loss_rpn_box_reg: 0.016  (105.91s - 886.96s remaining)\n",
            "EPOCH: 0.567  val_loss: 0.335  val_loc_loss: 0.122  val_regr_loss: 0.203  val_loss_objectness: 0.003  val_loss_rpn_box_reg: 0.007  (108.72s - 850.55s remaining)\n",
            "EPOCH: 0.600  val_loss: 0.460  val_loc_loss: 0.143  val_regr_loss: 0.304  val_loss_objectness: 0.006  val_loss_rpn_box_reg: 0.007  (111.64s - 818.68s remaining)\n",
            "EPOCH: 0.633  val_loss: 0.287  val_loc_loss: 0.128  val_regr_loss: 0.143  val_loss_objectness: 0.009  val_loss_rpn_box_reg: 0.007  (114.66s - 790.52s remaining)\n",
            "EPOCH: 0.667  val_loss: 0.073  val_loc_loss: 0.016  val_regr_loss: 0.052  val_loss_objectness: 0.003  val_loss_rpn_box_reg: 0.002  (117.22s - 761.94s remaining)\n",
            "EPOCH: 0.700  val_loss: 0.214  val_loc_loss: 0.063  val_regr_loss: 0.145  val_loss_objectness: 0.002  val_loss_rpn_box_reg: 0.004  (119.70s - 735.31s remaining)\n",
            "EPOCH: 0.733  val_loss: 0.497  val_loc_loss: 0.173  val_regr_loss: 0.308  val_loss_objectness: 0.007  val_loss_rpn_box_reg: 0.009  (122.13s - 710.57s remaining)\n",
            "EPOCH: 0.767  val_loss: 0.091  val_loc_loss: 0.040  val_regr_loss: 0.049  val_loss_objectness: 0.001  val_loss_rpn_box_reg: 0.001  (125.19s - 691.28s remaining)\n",
            "EPOCH: 0.800  val_loss: 0.473  val_loc_loss: 0.167  val_regr_loss: 0.266  val_loss_objectness: 0.030  val_loss_rpn_box_reg: 0.010  (128.24s - 673.26s remaining)\n",
            "EPOCH: 0.833  val_loss: 0.107  val_loc_loss: 0.033  val_regr_loss: 0.068  val_loss_objectness: 0.004  val_loss_rpn_box_reg: 0.002  (131.05s - 655.23s remaining)\n",
            "EPOCH: 0.867  val_loss: 0.140  val_loc_loss: 0.027  val_regr_loss: 0.096  val_loss_objectness: 0.001  val_loss_rpn_box_reg: 0.016  (133.39s - 636.14s remaining)\n",
            "EPOCH: 0.900  val_loss: 0.237  val_loc_loss: 0.050  val_regr_loss: 0.182  val_loss_objectness: 0.000  val_loss_rpn_box_reg: 0.004  (135.96s - 619.38s remaining)\n",
            "EPOCH: 0.933  val_loss: 0.084  val_loc_loss: 0.021  val_regr_loss: 0.062  val_loss_objectness: 0.000  val_loss_rpn_box_reg: 0.001  (138.48s - 603.37s remaining)\n",
            "EPOCH: 0.967  val_loss: 0.371  val_loc_loss: 0.135  val_regr_loss: 0.213  val_loss_objectness: 0.018  val_loss_rpn_box_reg: 0.006  (141.19s - 589.12s remaining)\n",
            "EPOCH: 1.000  val_loss: 0.308  val_loc_loss: 0.140  val_regr_loss: 0.159  val_loss_objectness: 0.005  val_loss_rpn_box_reg: 0.004  (143.68s - 574.72s remaining)\n",
            "EPOCH: 1.000  val_regr_loss: 0.145  trn_loss_objectness: 0.008  val_loss: 0.245  val_loss_rpn_box_reg: 0.007  trn_loss: 0.382  trn_regr_loss: 0.209  trn_loss_rpn_box_reg: 0.007  val_loss_objectness: 0.006  trn_loc_loss: 0.158  val_loc_loss: 0.088  (143.68s - 574.73s remaining)\n",
            "EPOCH: 1.017  trn_loss: 0.194  trn_loc_loss: 0.062  trn_regr_loss: 0.124  trn_loss_objectness: 0.003  trn_loss_rpn_box_reg: 0.006  (144.48s - 566.08s remaining)\n",
            "EPOCH: 1.033  trn_loss: 0.380  trn_loc_loss: 0.131  trn_regr_loss: 0.236  trn_loss_objectness: 0.006  trn_loss_rpn_box_reg: 0.007  (145.35s - 557.94s remaining)\n",
            "EPOCH: 1.050  trn_loss: 0.129  trn_loc_loss: 0.057  trn_regr_loss: 0.069  trn_loss_objectness: 0.001  trn_loss_rpn_box_reg: 0.001  (146.18s - 549.91s remaining)\n",
            "EPOCH: 1.067  trn_loss: 0.380  trn_loc_loss: 0.109  trn_regr_loss: 0.251  trn_loss_objectness: 0.013  trn_loss_rpn_box_reg: 0.007  (147.03s - 542.16s remaining)\n",
            "EPOCH: 1.083  trn_loss: 0.154  trn_loc_loss: 0.061  trn_regr_loss: 0.084  trn_loss_objectness: 0.007  trn_loss_rpn_box_reg: 0.002  (147.89s - 534.66s remaining)\n",
            "EPOCH: 1.100  trn_loss: 0.214  trn_loc_loss: 0.047  trn_regr_loss: 0.155  trn_loss_objectness: 0.003  trn_loss_rpn_box_reg: 0.009  (148.73s - 527.31s remaining)\n",
            "EPOCH: 1.117  trn_loss: 0.281  trn_loc_loss: 0.085  trn_regr_loss: 0.184  trn_loss_objectness: 0.007  trn_loss_rpn_box_reg: 0.004  (149.57s - 520.13s remaining)\n",
            "EPOCH: 1.133  trn_loss: 0.267  trn_loc_loss: 0.086  trn_regr_loss: 0.164  trn_loss_objectness: 0.009  trn_loss_rpn_box_reg: 0.008  (150.42s - 513.19s remaining)\n",
            "EPOCH: 1.150  trn_loss: 0.174  trn_loc_loss: 0.061  trn_regr_loss: 0.111  trn_loss_objectness: 0.001  trn_loss_rpn_box_reg: 0.002  (151.29s - 506.48s remaining)\n",
            "EPOCH: 1.167  trn_loss: 0.287  trn_loc_loss: 0.090  trn_regr_loss: 0.180  trn_loss_objectness: 0.009  trn_loss_rpn_box_reg: 0.009  (152.15s - 499.92s remaining)\n",
            "EPOCH: 1.183  trn_loss: 0.180  trn_loc_loss: 0.057  trn_regr_loss: 0.120  trn_loss_objectness: 0.000  trn_loss_rpn_box_reg: 0.002  (153.00s - 493.49s remaining)\n",
            "EPOCH: 1.200  trn_loss: 0.278  trn_loc_loss: 0.089  trn_regr_loss: 0.175  trn_loss_objectness: 0.005  trn_loss_rpn_box_reg: 0.010  (153.89s - 487.33s remaining)\n",
            "EPOCH: 1.217  trn_loss: 0.112  trn_loc_loss: 0.044  trn_regr_loss: 0.059  trn_loss_objectness: 0.005  trn_loss_rpn_box_reg: 0.004  (154.86s - 481.54s remaining)\n",
            "EPOCH: 1.233  trn_loss: 0.174  trn_loc_loss: 0.054  trn_regr_loss: 0.111  trn_loss_objectness: 0.004  trn_loss_rpn_box_reg: 0.004  (155.85s - 475.98s remaining)\n",
            "EPOCH: 1.250  trn_loss: 0.092  trn_loc_loss: 0.030  trn_regr_loss: 0.057  trn_loss_objectness: 0.002  trn_loss_rpn_box_reg: 0.004  (156.91s - 470.72s remaining)\n",
            "EPOCH: 1.267  trn_loss: 0.092  trn_loc_loss: 0.034  trn_regr_loss: 0.053  trn_loss_objectness: 0.004  trn_loss_rpn_box_reg: 0.002  (157.92s - 465.44s remaining)\n",
            "EPOCH: 1.283  trn_loss: 0.239  trn_loc_loss: 0.069  trn_regr_loss: 0.154  trn_loss_objectness: 0.004  trn_loss_rpn_box_reg: 0.011  (158.95s - 460.33s remaining)\n",
            "EPOCH: 1.300  trn_loss: 0.372  trn_loc_loss: 0.107  trn_regr_loss: 0.259  trn_loss_objectness: 0.001  trn_loss_rpn_box_reg: 0.004  (159.89s - 455.06s remaining)\n",
            "EPOCH: 1.317  trn_loss: 0.253  trn_loc_loss: 0.086  trn_regr_loss: 0.159  trn_loss_objectness: 0.003  trn_loss_rpn_box_reg: 0.005  (160.73s - 449.63s remaining)\n",
            "EPOCH: 1.333  trn_loss: 0.088  trn_loc_loss: 0.045  trn_regr_loss: 0.035  trn_loss_objectness: 0.006  trn_loss_rpn_box_reg: 0.002  (161.61s - 444.42s remaining)\n",
            "EPOCH: 1.350  trn_loss: 0.088  trn_loc_loss: 0.030  trn_regr_loss: 0.055  trn_loss_objectness: 0.001  trn_loss_rpn_box_reg: 0.002  (162.53s - 439.44s remaining)\n",
            "EPOCH: 1.367  trn_loss: 0.130  trn_loc_loss: 0.058  trn_regr_loss: 0.070  trn_loss_objectness: 0.001  trn_loss_rpn_box_reg: 0.001  (163.37s - 434.31s remaining)\n",
            "EPOCH: 1.383  trn_loss: 0.260  trn_loc_loss: 0.081  trn_regr_loss: 0.166  trn_loss_objectness: 0.006  trn_loss_rpn_box_reg: 0.007  (164.22s - 429.35s remaining)\n",
            "EPOCH: 1.400  trn_loss: 0.206  trn_loc_loss: 0.059  trn_regr_loss: 0.140  trn_loss_objectness: 0.001  trn_loss_rpn_box_reg: 0.006  (165.09s - 424.52s remaining)\n",
            "EPOCH: 1.417  trn_loss: 0.265  trn_loc_loss: 0.082  trn_regr_loss: 0.167  trn_loss_objectness: 0.007  trn_loss_rpn_box_reg: 0.009  (165.94s - 419.72s remaining)\n",
            "EPOCH: 1.433  trn_loss: 0.293  trn_loc_loss: 0.081  trn_regr_loss: 0.193  trn_loss_objectness: 0.004  trn_loss_rpn_box_reg: 0.015  (166.78s - 415.02s remaining)\n",
            "EPOCH: 1.450  trn_loss: 0.313  trn_loc_loss: 0.105  trn_regr_loss: 0.199  trn_loss_objectness: 0.005  trn_loss_rpn_box_reg: 0.005  (167.63s - 410.41s remaining)\n",
            "EPOCH: 1.467  trn_loss: 0.329  trn_loc_loss: 0.099  trn_regr_loss: 0.220  trn_loss_objectness: 0.004  trn_loss_rpn_box_reg: 0.005  (168.45s - 405.81s remaining)\n",
            "EPOCH: 1.483  trn_loss: 0.067  trn_loc_loss: 0.018  trn_regr_loss: 0.047  trn_loss_objectness: 0.001  trn_loss_rpn_box_reg: 0.001  (169.28s - 401.32s remaining)\n",
            "EPOCH: 1.500  trn_loss: 0.117  trn_loc_loss: 0.039  trn_regr_loss: 0.077  trn_loss_objectness: 0.000  trn_loss_rpn_box_reg: 0.001  (170.10s - 396.90s remaining)\n",
            "EPOCH: 1.517  trn_loss: 0.207  trn_loc_loss: 0.078  trn_regr_loss: 0.113  trn_loss_objectness: 0.010  trn_loss_rpn_box_reg: 0.006  (170.99s - 392.72s remaining)\n",
            "EPOCH: 1.533  trn_loss: 0.158  trn_loc_loss: 0.049  trn_regr_loss: 0.104  trn_loss_objectness: 0.001  trn_loss_rpn_box_reg: 0.004  (171.84s - 388.51s remaining)\n",
            "EPOCH: 1.550  trn_loss: 0.233  trn_loc_loss: 0.080  trn_regr_loss: 0.145  trn_loss_objectness: 0.002  trn_loss_rpn_box_reg: 0.006  (172.89s - 384.83s remaining)\n",
            "EPOCH: 1.567  trn_loss: 0.138  trn_loc_loss: 0.047  trn_regr_loss: 0.087  trn_loss_objectness: 0.001  trn_loss_rpn_box_reg: 0.003  (173.73s - 380.72s remaining)\n",
            "EPOCH: 1.583  trn_loss: 0.145  trn_loc_loss: 0.050  trn_regr_loss: 0.087  trn_loss_objectness: 0.003  trn_loss_rpn_box_reg: 0.005  (174.53s - 376.62s remaining)\n",
            "EPOCH: 1.600  trn_loss: 0.130  trn_loc_loss: 0.040  trn_regr_loss: 0.084  trn_loss_objectness: 0.004  trn_loss_rpn_box_reg: 0.001  (175.35s - 372.61s remaining)\n",
            "EPOCH: 1.617  trn_loss: 0.196  trn_loc_loss: 0.048  trn_regr_loss: 0.135  trn_loss_objectness: 0.002  trn_loss_rpn_box_reg: 0.011  (176.19s - 368.73s remaining)\n",
            "EPOCH: 1.633  trn_loss: 0.221  trn_loc_loss: 0.069  trn_regr_loss: 0.145  trn_loss_objectness: 0.005  trn_loss_rpn_box_reg: 0.003  (177.01s - 364.85s remaining)\n",
            "EPOCH: 1.650  trn_loss: 0.106  trn_loc_loss: 0.024  trn_regr_loss: 0.077  trn_loss_objectness: 0.002  trn_loss_rpn_box_reg: 0.003  (177.82s - 361.02s remaining)\n",
            "EPOCH: 1.667  trn_loss: 0.273  trn_loc_loss: 0.099  trn_regr_loss: 0.164  trn_loss_objectness: 0.003  trn_loss_rpn_box_reg: 0.006  (178.63s - 357.26s remaining)\n",
            "EPOCH: 1.683  trn_loss: 0.107  trn_loc_loss: 0.045  trn_regr_loss: 0.060  trn_loss_objectness: 0.000  trn_loss_rpn_box_reg: 0.002  (179.46s - 353.59s remaining)\n",
            "EPOCH: 1.700  trn_loss: 0.364  trn_loc_loss: 0.096  trn_regr_loss: 0.258  trn_loss_objectness: 0.001  trn_loss_rpn_box_reg: 0.010  (180.30s - 350.00s remaining)\n",
            "EPOCH: 1.717  trn_loss: 0.314  trn_loc_loss: 0.103  trn_regr_loss: 0.199  trn_loss_objectness: 0.002  trn_loss_rpn_box_reg: 0.009  (181.14s - 346.46s remaining)\n",
            "EPOCH: 1.733  trn_loss: 0.139  trn_loc_loss: 0.047  trn_regr_loss: 0.087  trn_loss_objectness: 0.001  trn_loss_rpn_box_reg: 0.004  (181.95s - 342.91s remaining)\n",
            "EPOCH: 1.750  trn_loss: 0.142  trn_loc_loss: 0.059  trn_regr_loss: 0.081  trn_loss_objectness: 0.000  trn_loss_rpn_box_reg: 0.003  (182.75s - 339.39s remaining)\n",
            "EPOCH: 1.767  trn_loss: 0.290  trn_loc_loss: 0.114  trn_regr_loss: 0.161  trn_loss_objectness: 0.009  trn_loss_rpn_box_reg: 0.006  (183.56s - 335.95s remaining)\n",
            "EPOCH: 1.783  trn_loss: 0.184  trn_loc_loss: 0.040  trn_regr_loss: 0.130  trn_loss_objectness: 0.007  trn_loss_rpn_box_reg: 0.008  (184.37s - 332.56s remaining)\n",
            "EPOCH: 1.800  trn_loss: 0.216  trn_loc_loss: 0.054  trn_regr_loss: 0.150  trn_loss_objectness: 0.004  trn_loss_rpn_box_reg: 0.007  (185.21s - 329.26s remaining)\n",
            "EPOCH: 1.817  trn_loss: 0.192  trn_loc_loss: 0.057  trn_regr_loss: 0.126  trn_loss_objectness: 0.004  trn_loss_rpn_box_reg: 0.005  (186.02s - 325.96s remaining)\n",
            "EPOCH: 1.833  trn_loss: 0.157  trn_loc_loss: 0.036  trn_regr_loss: 0.115  trn_loss_objectness: 0.001  trn_loss_rpn_box_reg: 0.004  (186.82s - 322.69s remaining)\n",
            "EPOCH: 1.850  trn_loss: 0.208  trn_loc_loss: 0.080  trn_regr_loss: 0.119  trn_loss_objectness: 0.003  trn_loss_rpn_box_reg: 0.006  (187.62s - 319.46s remaining)\n",
            "EPOCH: 1.867  trn_loss: 0.184  trn_loc_loss: 0.064  trn_regr_loss: 0.112  trn_loss_objectness: 0.004  trn_loss_rpn_box_reg: 0.004  (188.42s - 316.27s remaining)\n",
            "EPOCH: 1.883  trn_loss: 0.136  trn_loc_loss: 0.032  trn_regr_loss: 0.101  trn_loss_objectness: 0.001  trn_loss_rpn_box_reg: 0.003  (189.24s - 313.16s remaining)\n",
            "EPOCH: 1.900  trn_loss: 0.275  trn_loc_loss: 0.116  trn_regr_loss: 0.150  trn_loss_objectness: 0.006  trn_loss_rpn_box_reg: 0.004  (190.06s - 310.09s remaining)\n",
            "EPOCH: 1.917  trn_loss: 0.179  trn_loc_loss: 0.044  trn_regr_loss: 0.130  trn_loss_objectness: 0.002  trn_loss_rpn_box_reg: 0.004  (190.87s - 307.05s remaining)\n",
            "EPOCH: 1.933  trn_loss: 0.116  trn_loc_loss: 0.028  trn_regr_loss: 0.084  trn_loss_objectness: 0.001  trn_loss_rpn_box_reg: 0.004  (191.66s - 304.01s remaining)\n",
            "EPOCH: 1.950  trn_loss: 0.138  trn_loc_loss: 0.046  trn_regr_loss: 0.087  trn_loss_objectness: 0.002  trn_loss_rpn_box_reg: 0.003  (192.46s - 301.02s remaining)\n",
            "EPOCH: 1.967  trn_loss: 0.129  trn_loc_loss: 0.042  trn_regr_loss: 0.081  trn_loss_objectness: 0.003  trn_loss_rpn_box_reg: 0.002  (193.31s - 298.16s remaining)\n",
            "EPOCH: 1.983  trn_loss: 0.118  trn_loc_loss: 0.049  trn_regr_loss: 0.065  trn_loss_objectness: 0.002  trn_loss_rpn_box_reg: 0.002  (194.10s - 295.23s remaining)\n",
            "EPOCH: 2.000  trn_loss: 0.106  trn_loc_loss: 0.041  trn_regr_loss: 0.062  trn_loss_objectness: 0.001  trn_loss_rpn_box_reg: 0.002  (194.90s - 292.35s remaining)\n",
            "EPOCH: 1.033  val_loss: 0.085  val_loc_loss: 0.023  val_regr_loss: 0.051  val_loss_objectness: 0.000  val_loss_rpn_box_reg: 0.011  (195.12s - 749.02s remaining)\n",
            "EPOCH: 1.067  val_loss: 0.253  val_loc_loss: 0.108  val_regr_loss: 0.141  val_loss_objectness: 0.002  val_loss_rpn_box_reg: 0.002  (195.30s - 720.18s remaining)\n",
            "EPOCH: 1.100  val_loss: 0.263  val_loc_loss: 0.074  val_regr_loss: 0.184  val_loss_objectness: 0.001  val_loss_rpn_box_reg: 0.004  (195.49s - 693.11s remaining)\n",
            "EPOCH: 1.133  val_loss: 0.410  val_loc_loss: 0.129  val_regr_loss: 0.231  val_loss_objectness: 0.041  val_loss_rpn_box_reg: 0.009  (195.72s - 667.75s remaining)\n",
            "EPOCH: 1.167  val_loss: 0.300  val_loc_loss: 0.092  val_regr_loss: 0.192  val_loss_objectness: 0.001  val_loss_rpn_box_reg: 0.015  (195.92s - 643.73s remaining)\n",
            "EPOCH: 1.200  val_loss: 0.310  val_loc_loss: 0.093  val_regr_loss: 0.210  val_loss_objectness: 0.002  val_loss_rpn_box_reg: 0.006  (196.14s - 621.11s remaining)\n",
            "EPOCH: 1.233  val_loss: 0.188  val_loc_loss: 0.052  val_regr_loss: 0.131  val_loss_objectness: 0.001  val_loss_rpn_box_reg: 0.005  (196.33s - 599.60s remaining)\n",
            "EPOCH: 1.267  val_loss: 0.089  val_loc_loss: 0.032  val_regr_loss: 0.046  val_loss_objectness: 0.002  val_loss_rpn_box_reg: 0.009  (196.51s - 579.18s remaining)\n",
            "EPOCH: 1.300  val_loss: 0.249  val_loc_loss: 0.108  val_regr_loss: 0.130  val_loss_objectness: 0.005  val_loss_rpn_box_reg: 0.006  (196.70s - 559.83s remaining)\n",
            "EPOCH: 1.333  val_loss: 0.274  val_loc_loss: 0.091  val_regr_loss: 0.170  val_loss_objectness: 0.010  val_loss_rpn_box_reg: 0.003  (196.90s - 541.46s remaining)\n",
            "EPOCH: 1.367  val_loss: 0.308  val_loc_loss: 0.095  val_regr_loss: 0.190  val_loss_objectness: 0.013  val_loss_rpn_box_reg: 0.010  (197.10s - 524.01s remaining)\n",
            "EPOCH: 1.400  val_loss: 0.097  val_loc_loss: 0.033  val_regr_loss: 0.059  val_loss_objectness: 0.002  val_loss_rpn_box_reg: 0.003  (197.33s - 507.41s remaining)\n",
            "EPOCH: 1.433  val_loss: 0.124  val_loc_loss: 0.045  val_regr_loss: 0.073  val_loss_objectness: 0.003  val_loss_rpn_box_reg: 0.003  (197.52s - 491.52s remaining)\n",
            "EPOCH: 1.467  val_loss: 0.071  val_loc_loss: 0.027  val_regr_loss: 0.042  val_loss_objectness: 0.001  val_loss_rpn_box_reg: 0.001  (197.76s - 476.43s remaining)\n",
            "EPOCH: 1.500  val_loss: 0.162  val_loc_loss: 0.045  val_regr_loss: 0.110  val_loss_objectness: 0.005  val_loss_rpn_box_reg: 0.003  (197.95s - 461.87s remaining)\n",
            "EPOCH: 1.533  val_loss: 0.053  val_loc_loss: 0.019  val_regr_loss: 0.029  val_loss_objectness: 0.002  val_loss_rpn_box_reg: 0.003  (198.14s - 447.96s remaining)\n",
            "EPOCH: 1.567  val_loss: 0.170  val_loc_loss: 0.037  val_regr_loss: 0.125  val_loss_objectness: 0.002  val_loss_rpn_box_reg: 0.006  (198.35s - 434.69s remaining)\n",
            "EPOCH: 1.600  val_loss: 0.320  val_loc_loss: 0.105  val_regr_loss: 0.189  val_loss_objectness: 0.021  val_loss_rpn_box_reg: 0.005  (198.55s - 421.93s remaining)\n",
            "EPOCH: 1.633  val_loss: 0.059  val_loc_loss: 0.026  val_regr_loss: 0.027  val_loss_objectness: 0.001  val_loss_rpn_box_reg: 0.004  (198.76s - 409.69s remaining)\n",
            "EPOCH: 1.667  val_loss: 0.284  val_loc_loss: 0.104  val_regr_loss: 0.175  val_loss_objectness: 0.001  val_loss_rpn_box_reg: 0.003  (198.96s - 397.93s remaining)\n",
            "EPOCH: 1.700  val_loss: 0.111  val_loc_loss: 0.050  val_regr_loss: 0.060  val_loss_objectness: 0.000  val_loss_rpn_box_reg: 0.001  (199.16s - 386.61s remaining)\n",
            "EPOCH: 1.733  val_loss: 0.085  val_loc_loss: 0.026  val_regr_loss: 0.051  val_loss_objectness: 0.004  val_loss_rpn_box_reg: 0.003  (199.35s - 375.69s remaining)\n",
            "EPOCH: 1.767  val_loss: 0.334  val_loc_loss: 0.124  val_regr_loss: 0.205  val_loss_objectness: 0.002  val_loss_rpn_box_reg: 0.003  (199.53s - 365.18s remaining)\n",
            "EPOCH: 1.800  val_loss: 0.284  val_loc_loss: 0.056  val_regr_loss: 0.206  val_loss_objectness: 0.014  val_loss_rpn_box_reg: 0.008  (199.71s - 355.04s remaining)\n",
            "EPOCH: 1.833  val_loss: 0.125  val_loc_loss: 0.066  val_regr_loss: 0.057  val_loss_objectness: 0.000  val_loss_rpn_box_reg: 0.001  (199.89s - 345.27s remaining)\n",
            "EPOCH: 1.867  val_loss: 0.242  val_loc_loss: 0.071  val_regr_loss: 0.158  val_loss_objectness: 0.009  val_loss_rpn_box_reg: 0.004  (200.09s - 335.87s remaining)\n",
            "EPOCH: 1.900  val_loss: 0.294  val_loc_loss: 0.083  val_regr_loss: 0.203  val_loss_objectness: 0.003  val_loss_rpn_box_reg: 0.005  (200.29s - 326.79s remaining)\n",
            "EPOCH: 1.933  val_loss: 0.256  val_loc_loss: 0.093  val_regr_loss: 0.149  val_loss_objectness: 0.008  val_loss_rpn_box_reg: 0.005  (200.48s - 318.01s remaining)\n",
            "EPOCH: 1.967  val_loss: 0.067  val_loc_loss: 0.027  val_regr_loss: 0.038  val_loss_objectness: 0.000  val_loss_rpn_box_reg: 0.001  (200.67s - 309.51s remaining)\n",
            "EPOCH: 2.000  val_loss: 0.108  val_loc_loss: 0.059  val_regr_loss: 0.047  val_loss_objectness: 0.000  val_loss_rpn_box_reg: 0.002  (200.86s - 301.29s remaining)\n",
            "EPOCH: 2.000  val_regr_loss: 0.126  trn_loss_objectness: 0.004  val_loss: 0.206  val_loss_rpn_box_reg: 0.005  trn_loss: 0.200  trn_regr_loss: 0.127  trn_loss_rpn_box_reg: 0.005  val_loss_objectness: 0.005  trn_loc_loss: 0.064  val_loc_loss: 0.069  (200.86s - 301.29s remaining)\n",
            "EPOCH: 2.017  trn_loss: 0.148  trn_loc_loss: 0.053  trn_regr_loss: 0.087  trn_loss_objectness: 0.005  trn_loss_rpn_box_reg: 0.003  (201.65s - 298.31s remaining)\n",
            "EPOCH: 2.033  trn_loss: 0.229  trn_loc_loss: 0.074  trn_regr_loss: 0.141  trn_loss_objectness: 0.001  trn_loss_rpn_box_reg: 0.013  (202.45s - 295.38s remaining)\n",
            "EPOCH: 2.050  trn_loss: 0.134  trn_loc_loss: 0.062  trn_regr_loss: 0.066  trn_loss_objectness: 0.002  trn_loss_rpn_box_reg: 0.005  (203.38s - 292.67s remaining)\n",
            "EPOCH: 2.067  trn_loss: 0.114  trn_loc_loss: 0.033  trn_regr_loss: 0.076  trn_loss_objectness: 0.002  trn_loss_rpn_box_reg: 0.003  (204.18s - 289.81s remaining)\n",
            "EPOCH: 2.083  trn_loss: 0.168  trn_loc_loss: 0.053  trn_regr_loss: 0.110  trn_loss_objectness: 0.002  trn_loss_rpn_box_reg: 0.003  (204.97s - 286.95s remaining)\n",
            "EPOCH: 2.100  trn_loss: 0.182  trn_loc_loss: 0.056  trn_regr_loss: 0.120  trn_loss_objectness: 0.004  trn_loss_rpn_box_reg: 0.003  (205.77s - 284.16s remaining)\n",
            "EPOCH: 2.117  trn_loss: 0.121  trn_loc_loss: 0.036  trn_regr_loss: 0.080  trn_loss_objectness: 0.002  trn_loss_rpn_box_reg: 0.004  (206.55s - 281.37s remaining)\n",
            "EPOCH: 2.133  trn_loss: 0.212  trn_loc_loss: 0.059  trn_regr_loss: 0.144  trn_loss_objectness: 0.002  trn_loss_rpn_box_reg: 0.007  (207.43s - 278.73s remaining)\n",
            "EPOCH: 2.150  trn_loss: 0.185  trn_loc_loss: 0.050  trn_regr_loss: 0.133  trn_loss_objectness: 0.000  trn_loss_rpn_box_reg: 0.003  (208.24s - 276.03s remaining)\n",
            "EPOCH: 2.167  trn_loss: 0.054  trn_loc_loss: 0.022  trn_regr_loss: 0.032  trn_loss_objectness: 0.000  trn_loss_rpn_box_reg: 0.001  (209.03s - 273.35s remaining)\n",
            "EPOCH: 2.183  trn_loss: 0.176  trn_loc_loss: 0.047  trn_regr_loss: 0.122  trn_loss_objectness: 0.003  trn_loss_rpn_box_reg: 0.005  (209.83s - 270.69s remaining)\n",
            "EPOCH: 2.200  trn_loss: 0.250  trn_loc_loss: 0.087  trn_regr_loss: 0.152  trn_loss_objectness: 0.004  trn_loss_rpn_box_reg: 0.007  (210.63s - 268.07s remaining)\n",
            "EPOCH: 2.217  trn_loss: 0.198  trn_loc_loss: 0.056  trn_regr_loss: 0.135  trn_loss_objectness: 0.004  trn_loss_rpn_box_reg: 0.003  (211.43s - 265.48s remaining)\n",
            "EPOCH: 2.233  trn_loss: 0.162  trn_loc_loss: 0.043  trn_regr_loss: 0.114  trn_loss_objectness: 0.000  trn_loss_rpn_box_reg: 0.004  (212.31s - 263.01s remaining)\n",
            "EPOCH: 2.250  trn_loss: 0.182  trn_loc_loss: 0.062  trn_regr_loss: 0.116  trn_loss_objectness: 0.001  trn_loss_rpn_box_reg: 0.002  (213.12s - 260.48s remaining)\n",
            "EPOCH: 2.267  trn_loss: 0.173  trn_loc_loss: 0.040  trn_regr_loss: 0.126  trn_loss_objectness: 0.001  trn_loss_rpn_box_reg: 0.007  (213.91s - 257.95s remaining)\n",
            "EPOCH: 2.283  trn_loss: 0.213  trn_loc_loss: 0.044  trn_regr_loss: 0.162  trn_loss_objectness: 0.000  trn_loss_rpn_box_reg: 0.007  (214.70s - 255.44s remaining)\n",
            "EPOCH: 2.300  trn_loss: 0.123  trn_loc_loss: 0.030  trn_regr_loss: 0.088  trn_loss_objectness: 0.002  trn_loss_rpn_box_reg: 0.004  (215.76s - 253.29s remaining)\n",
            "EPOCH: 2.317  trn_loss: 0.260  trn_loc_loss: 0.082  trn_regr_loss: 0.165  trn_loss_objectness: 0.003  trn_loss_rpn_box_reg: 0.010  (216.57s - 250.85s remaining)\n",
            "EPOCH: 2.333  trn_loss: 0.106  trn_loc_loss: 0.035  trn_regr_loss: 0.070  trn_loss_objectness: 0.000  trn_loss_rpn_box_reg: 0.001  (217.37s - 248.42s remaining)\n",
            "EPOCH: 2.350  trn_loss: 0.216  trn_loc_loss: 0.068  trn_regr_loss: 0.141  trn_loss_objectness: 0.002  trn_loss_rpn_box_reg: 0.005  (218.17s - 246.02s remaining)\n",
            "EPOCH: 2.367  trn_loss: 0.203  trn_loc_loss: 0.063  trn_regr_loss: 0.131  trn_loss_objectness: 0.003  trn_loss_rpn_box_reg: 0.006  (218.96s - 243.63s remaining)\n",
            "EPOCH: 2.383  trn_loss: 0.083  trn_loc_loss: 0.024  trn_regr_loss: 0.057  trn_loss_objectness: 0.001  trn_loss_rpn_box_reg: 0.002  (219.75s - 241.27s remaining)\n",
            "EPOCH: 2.400  trn_loss: 0.339  trn_loc_loss: 0.096  trn_regr_loss: 0.236  trn_loss_objectness: 0.001  trn_loss_rpn_box_reg: 0.006  (220.57s - 238.95s remaining)\n",
            "EPOCH: 2.417  trn_loss: 0.271  trn_loc_loss: 0.069  trn_regr_loss: 0.197  trn_loss_objectness: 0.002  trn_loss_rpn_box_reg: 0.004  (221.39s - 236.66s remaining)\n",
            "EPOCH: 2.433  trn_loss: 0.159  trn_loc_loss: 0.046  trn_regr_loss: 0.102  trn_loss_objectness: 0.002  trn_loss_rpn_box_reg: 0.008  (222.20s - 234.37s remaining)\n",
            "EPOCH: 2.450  trn_loss: 0.089  trn_loc_loss: 0.024  trn_regr_loss: 0.062  trn_loss_objectness: 0.001  trn_loss_rpn_box_reg: 0.002  (222.99s - 232.09s remaining)\n",
            "EPOCH: 2.467  trn_loss: 0.300  trn_loc_loss: 0.075  trn_regr_loss: 0.218  trn_loss_objectness: 0.002  trn_loss_rpn_box_reg: 0.006  (223.81s - 229.85s remaining)\n",
            "EPOCH: 2.483  trn_loss: 0.075  trn_loc_loss: 0.019  trn_regr_loss: 0.052  trn_loss_objectness: 0.002  trn_loss_rpn_box_reg: 0.001  (224.62s - 227.64s remaining)\n",
            "EPOCH: 2.500  trn_loss: 0.108  trn_loc_loss: 0.030  trn_regr_loss: 0.073  trn_loss_objectness: 0.001  trn_loss_rpn_box_reg: 0.004  (225.43s - 225.43s remaining)\n",
            "EPOCH: 2.517  trn_loss: 0.173  trn_loc_loss: 0.048  trn_regr_loss: 0.115  trn_loss_objectness: 0.005  trn_loss_rpn_box_reg: 0.006  (226.24s - 223.24s remaining)\n",
            "EPOCH: 2.533  trn_loss: 0.093  trn_loc_loss: 0.030  trn_regr_loss: 0.059  trn_loss_objectness: 0.001  trn_loss_rpn_box_reg: 0.003  (227.06s - 221.09s remaining)\n",
            "EPOCH: 2.550  trn_loss: 0.102  trn_loc_loss: 0.036  trn_regr_loss: 0.060  trn_loss_objectness: 0.004  trn_loss_rpn_box_reg: 0.002  (227.88s - 218.94s remaining)\n",
            "EPOCH: 2.567  trn_loss: 0.120  trn_loc_loss: 0.036  trn_regr_loss: 0.081  trn_loss_objectness: 0.000  trn_loss_rpn_box_reg: 0.002  (228.69s - 216.81s remaining)\n",
            "EPOCH: 2.583  trn_loss: 0.159  trn_loc_loss: 0.055  trn_regr_loss: 0.101  trn_loss_objectness: 0.002  trn_loss_rpn_box_reg: 0.002  (229.55s - 214.74s remaining)\n",
            "EPOCH: 2.600  trn_loss: 0.249  trn_loc_loss: 0.081  trn_regr_loss: 0.161  trn_loss_objectness: 0.001  trn_loss_rpn_box_reg: 0.006  (230.35s - 212.63s remaining)\n",
            "EPOCH: 2.617  trn_loss: 0.158  trn_loc_loss: 0.040  trn_regr_loss: 0.114  trn_loss_objectness: 0.001  trn_loss_rpn_box_reg: 0.003  (231.18s - 210.56s remaining)\n",
            "EPOCH: 2.633  trn_loss: 0.104  trn_loc_loss: 0.027  trn_regr_loss: 0.070  trn_loss_objectness: 0.004  trn_loss_rpn_box_reg: 0.003  (231.97s - 208.48s remaining)\n",
            "EPOCH: 2.650  trn_loss: 0.260  trn_loc_loss: 0.097  trn_regr_loss: 0.152  trn_loss_objectness: 0.005  trn_loss_rpn_box_reg: 0.007  (232.78s - 206.43s remaining)\n",
            "EPOCH: 2.667  trn_loss: 0.141  trn_loc_loss: 0.043  trn_regr_loss: 0.096  trn_loss_objectness: 0.000  trn_loss_rpn_box_reg: 0.002  (233.61s - 204.41s remaining)\n",
            "EPOCH: 2.683  trn_loss: 0.065  trn_loc_loss: 0.016  trn_regr_loss: 0.045  trn_loss_objectness: 0.002  trn_loss_rpn_box_reg: 0.001  (234.43s - 202.40s remaining)\n",
            "EPOCH: 2.700  trn_loss: 0.168  trn_loc_loss: 0.047  trn_regr_loss: 0.116  trn_loss_objectness: 0.002  trn_loss_rpn_box_reg: 0.003  (235.23s - 200.38s remaining)\n",
            "EPOCH: 2.717  trn_loss: 0.183  trn_loc_loss: 0.053  trn_regr_loss: 0.120  trn_loss_objectness: 0.007  trn_loss_rpn_box_reg: 0.004  (236.04s - 198.39s remaining)\n",
            "EPOCH: 2.733  trn_loss: 0.064  trn_loc_loss: 0.013  trn_regr_loss: 0.049  trn_loss_objectness: 0.001  trn_loss_rpn_box_reg: 0.002  (236.83s - 196.40s remaining)\n",
            "EPOCH: 2.750  trn_loss: 0.225  trn_loc_loss: 0.094  trn_regr_loss: 0.127  trn_loss_objectness: 0.001  trn_loss_rpn_box_reg: 0.003  (237.65s - 194.44s remaining)\n",
            "EPOCH: 2.767  trn_loss: 0.162  trn_loc_loss: 0.048  trn_regr_loss: 0.109  trn_loss_objectness: 0.001  trn_loss_rpn_box_reg: 0.005  (238.47s - 192.50s remaining)\n",
            "EPOCH: 2.783  trn_loss: 0.227  trn_loc_loss: 0.068  trn_regr_loss: 0.149  trn_loss_objectness: 0.005  trn_loss_rpn_box_reg: 0.004  (239.27s - 190.56s remaining)\n",
            "EPOCH: 2.800  trn_loss: 0.233  trn_loc_loss: 0.078  trn_regr_loss: 0.143  trn_loss_objectness: 0.001  trn_loss_rpn_box_reg: 0.012  (240.07s - 188.63s remaining)\n",
            "EPOCH: 2.817  trn_loss: 0.072  trn_loc_loss: 0.030  trn_regr_loss: 0.040  trn_loss_objectness: 0.000  trn_loss_rpn_box_reg: 0.001  (240.88s - 186.72s remaining)\n",
            "EPOCH: 2.833  trn_loss: 0.329  trn_loc_loss: 0.105  trn_regr_loss: 0.203  trn_loss_objectness: 0.015  trn_loss_rpn_box_reg: 0.006  (241.71s - 184.83s remaining)\n",
            "EPOCH: 2.850  trn_loss: 0.141  trn_loc_loss: 0.047  trn_regr_loss: 0.091  trn_loss_objectness: 0.001  trn_loss_rpn_box_reg: 0.003  (242.52s - 182.95s remaining)\n",
            "EPOCH: 2.867  trn_loss: 0.280  trn_loc_loss: 0.087  trn_regr_loss: 0.186  trn_loss_objectness: 0.002  trn_loss_rpn_box_reg: 0.005  (243.33s - 181.08s remaining)\n",
            "EPOCH: 2.883  trn_loss: 0.087  trn_loc_loss: 0.023  trn_regr_loss: 0.061  trn_loss_objectness: 0.001  trn_loss_rpn_box_reg: 0.002  (244.16s - 179.24s remaining)\n",
            "EPOCH: 2.900  trn_loss: 0.115  trn_loc_loss: 0.031  trn_regr_loss: 0.081  trn_loss_objectness: 0.000  trn_loss_rpn_box_reg: 0.002  (244.99s - 177.41s remaining)\n",
            "EPOCH: 2.917  trn_loss: 0.150  trn_loc_loss: 0.047  trn_regr_loss: 0.097  trn_loss_objectness: 0.003  trn_loss_rpn_box_reg: 0.003  (245.82s - 175.58s remaining)\n",
            "EPOCH: 2.933  trn_loss: 0.183  trn_loc_loss: 0.079  trn_regr_loss: 0.100  trn_loss_objectness: 0.001  trn_loss_rpn_box_reg: 0.002  (246.64s - 173.77s remaining)\n",
            "EPOCH: 2.950  trn_loss: 0.060  trn_loc_loss: 0.021  trn_regr_loss: 0.037  trn_loss_objectness: 0.001  trn_loss_rpn_box_reg: 0.002  (247.47s - 171.97s remaining)\n",
            "EPOCH: 2.967  trn_loss: 0.178  trn_loc_loss: 0.046  trn_regr_loss: 0.127  trn_loss_objectness: 0.000  trn_loss_rpn_box_reg: 0.004  (248.31s - 170.19s remaining)\n",
            "EPOCH: 2.983  trn_loss: 0.079  trn_loc_loss: 0.030  trn_regr_loss: 0.043  trn_loss_objectness: 0.002  trn_loss_rpn_box_reg: 0.003  (249.12s - 168.40s remaining)\n",
            "EPOCH: 3.000  trn_loss: 0.110  trn_loc_loss: 0.033  trn_regr_loss: 0.070  trn_loss_objectness: 0.005  trn_loss_rpn_box_reg: 0.003  (249.99s - 166.66s remaining)\n",
            "EPOCH: 2.033  val_loss: 0.082  val_loc_loss: 0.028  val_regr_loss: 0.052  val_loss_objectness: 0.001  val_loss_rpn_box_reg: 0.002  (250.23s - 365.09s remaining)\n",
            "EPOCH: 2.067  val_loss: 0.131  val_loc_loss: 0.050  val_regr_loss: 0.078  val_loss_objectness: 0.001  val_loss_rpn_box_reg: 0.002  (250.42s - 355.43s remaining)\n",
            "EPOCH: 2.100  val_loss: 0.147  val_loc_loss: 0.038  val_regr_loss: 0.104  val_loss_objectness: 0.001  val_loss_rpn_box_reg: 0.005  (250.61s - 346.09s remaining)\n",
            "EPOCH: 2.133  val_loss: 0.067  val_loc_loss: 0.020  val_regr_loss: 0.044  val_loss_objectness: 0.000  val_loss_rpn_box_reg: 0.003  (250.81s - 337.03s remaining)\n",
            "EPOCH: 2.167  val_loss: 0.114  val_loc_loss: 0.034  val_regr_loss: 0.075  val_loss_objectness: 0.003  val_loss_rpn_box_reg: 0.003  (251.00s - 328.24s remaining)\n",
            "EPOCH: 2.200  val_loss: 0.108  val_loc_loss: 0.051  val_regr_loss: 0.054  val_loss_objectness: 0.001  val_loss_rpn_box_reg: 0.002  (251.20s - 319.71s remaining)\n",
            "EPOCH: 2.233  val_loss: 0.083  val_loc_loss: 0.033  val_regr_loss: 0.047  val_loss_objectness: 0.000  val_loss_rpn_box_reg: 0.003  (251.42s - 311.46s remaining)\n",
            "EPOCH: 2.267  val_loss: 0.230  val_loc_loss: 0.089  val_regr_loss: 0.135  val_loss_objectness: 0.001  val_loss_rpn_box_reg: 0.005  (251.61s - 303.41s remaining)\n",
            "EPOCH: 2.300  val_loss: 0.331  val_loc_loss: 0.143  val_regr_loss: 0.176  val_loss_objectness: 0.001  val_loss_rpn_box_reg: 0.010  (251.80s - 295.59s remaining)\n",
            "EPOCH: 2.333  val_loss: 0.069  val_loc_loss: 0.019  val_regr_loss: 0.046  val_loss_objectness: 0.002  val_loss_rpn_box_reg: 0.002  (251.99s - 287.99s remaining)\n",
            "EPOCH: 2.367  val_loss: 0.554  val_loc_loss: 0.176  val_regr_loss: 0.330  val_loss_objectness: 0.034  val_loss_rpn_box_reg: 0.015  (252.20s - 280.62s remaining)\n",
            "EPOCH: 2.400  val_loss: 0.198  val_loc_loss: 0.085  val_regr_loss: 0.105  val_loss_objectness: 0.004  val_loss_rpn_box_reg: 0.004  (252.41s - 273.45s remaining)\n",
            "EPOCH: 2.433  val_loss: 0.356  val_loc_loss: 0.165  val_regr_loss: 0.181  val_loss_objectness: 0.004  val_loss_rpn_box_reg: 0.006  (252.63s - 266.48s remaining)\n",
            "EPOCH: 2.467  val_loss: 0.146  val_loc_loss: 0.062  val_regr_loss: 0.082  val_loss_objectness: 0.000  val_loss_rpn_box_reg: 0.002  (252.82s - 259.66s remaining)\n",
            "EPOCH: 2.500  val_loss: 0.107  val_loc_loss: 0.025  val_regr_loss: 0.079  val_loss_objectness: 0.000  val_loss_rpn_box_reg: 0.003  (253.05s - 253.05s remaining)\n",
            "EPOCH: 2.533  val_loss: 0.189  val_loc_loss: 0.067  val_regr_loss: 0.116  val_loss_objectness: 0.002  val_loss_rpn_box_reg: 0.003  (253.26s - 246.60s remaining)\n",
            "EPOCH: 2.567  val_loss: 0.297  val_loc_loss: 0.086  val_regr_loss: 0.201  val_loss_objectness: 0.007  val_loss_rpn_box_reg: 0.004  (253.45s - 240.28s remaining)\n",
            "EPOCH: 2.600  val_loss: 0.239  val_loc_loss: 0.061  val_regr_loss: 0.146  val_loss_objectness: 0.027  val_loss_rpn_box_reg: 0.006  (253.65s - 234.13s remaining)\n",
            "EPOCH: 2.633  val_loss: 0.064  val_loc_loss: 0.031  val_regr_loss: 0.024  val_loss_objectness: 0.002  val_loss_rpn_box_reg: 0.006  (253.84s - 228.13s remaining)\n",
            "EPOCH: 2.667  val_loss: 0.238  val_loc_loss: 0.100  val_regr_loss: 0.132  val_loss_objectness: 0.003  val_loss_rpn_box_reg: 0.003  (254.03s - 222.27s remaining)\n",
            "EPOCH: 2.700  val_loss: 0.343  val_loc_loss: 0.088  val_regr_loss: 0.239  val_loss_objectness: 0.007  val_loss_rpn_box_reg: 0.009  (254.21s - 216.55s remaining)\n",
            "EPOCH: 2.733  val_loss: 0.052  val_loc_loss: 0.017  val_regr_loss: 0.034  val_loss_objectness: 0.000  val_loss_rpn_box_reg: 0.001  (254.42s - 210.99s remaining)\n",
            "EPOCH: 2.767  val_loss: 0.405  val_loc_loss: 0.133  val_regr_loss: 0.245  val_loss_objectness: 0.013  val_loss_rpn_box_reg: 0.013  (254.65s - 205.56s remaining)\n",
            "EPOCH: 2.800  val_loss: 0.087  val_loc_loss: 0.026  val_regr_loss: 0.056  val_loss_objectness: 0.001  val_loss_rpn_box_reg: 0.004  (254.90s - 200.28s remaining)\n",
            "EPOCH: 2.833  val_loss: 0.254  val_loc_loss: 0.074  val_regr_loss: 0.173  val_loss_objectness: 0.001  val_loss_rpn_box_reg: 0.007  (255.12s - 195.09s remaining)\n",
            "EPOCH: 2.867  val_loss: 0.150  val_loc_loss: 0.031  val_regr_loss: 0.112  val_loss_objectness: 0.003  val_loss_rpn_box_reg: 0.004  (255.34s - 190.02s remaining)\n",
            "EPOCH: 2.900  val_loss: 0.226  val_loc_loss: 0.070  val_regr_loss: 0.132  val_loss_objectness: 0.003  val_loss_rpn_box_reg: 0.021  (255.53s - 185.04s remaining)\n",
            "EPOCH: 2.933  val_loss: 0.064  val_loc_loss: 0.019  val_regr_loss: 0.035  val_loss_objectness: 0.001  val_loss_rpn_box_reg: 0.009  (255.73s - 180.17s remaining)\n",
            "EPOCH: 2.967  val_loss: 0.089  val_loc_loss: 0.040  val_regr_loss: 0.047  val_loss_objectness: 0.000  val_loss_rpn_box_reg: 0.002  (255.91s - 175.40s remaining)\n",
            "EPOCH: 3.000  val_loss: 0.035  val_loc_loss: 0.011  val_regr_loss: 0.022  val_loss_objectness: 0.000  val_loss_rpn_box_reg: 0.001  (256.12s - 170.75s remaining)\n",
            "EPOCH: 3.000  val_regr_loss: 0.111  trn_loss_objectness: 0.002  val_loss: 0.184  val_loss_rpn_box_reg: 0.005  trn_loss: 0.165  trn_regr_loss: 0.108  trn_loss_rpn_box_reg: 0.004  val_loss_objectness: 0.004  trn_loc_loss: 0.051  val_loc_loss: 0.064  (256.12s - 170.75s remaining)\n",
            "EPOCH: 3.017  trn_loss: 0.097  trn_loc_loss: 0.030  trn_regr_loss: 0.061  trn_loss_objectness: 0.003  trn_loss_rpn_box_reg: 0.003  (256.95s - 168.94s remaining)\n",
            "EPOCH: 3.033  trn_loss: 0.122  trn_loc_loss: 0.054  trn_regr_loss: 0.063  trn_loss_objectness: 0.002  trn_loss_rpn_box_reg: 0.003  (257.78s - 167.13s remaining)\n",
            "EPOCH: 3.050  trn_loss: 0.091  trn_loc_loss: 0.029  trn_regr_loss: 0.061  trn_loss_objectness: 0.000  trn_loss_rpn_box_reg: 0.001  (258.59s - 165.33s remaining)\n",
            "EPOCH: 3.067  trn_loss: 0.171  trn_loc_loss: 0.052  trn_regr_loss: 0.116  trn_loss_objectness: 0.001  trn_loss_rpn_box_reg: 0.002  (259.41s - 163.54s remaining)\n",
            "EPOCH: 3.083  trn_loss: 0.154  trn_loc_loss: 0.046  trn_regr_loss: 0.103  trn_loss_objectness: 0.001  trn_loss_rpn_box_reg: 0.004  (260.29s - 161.80s remaining)\n",
            "EPOCH: 3.100  trn_loss: 0.067  trn_loc_loss: 0.017  trn_regr_loss: 0.048  trn_loss_objectness: 0.000  trn_loss_rpn_box_reg: 0.001  (261.11s - 160.03s remaining)\n",
            "EPOCH: 3.117  trn_loss: 0.055  trn_loc_loss: 0.016  trn_regr_loss: 0.036  trn_loss_objectness: 0.003  trn_loss_rpn_box_reg: 0.001  (261.95s - 158.29s remaining)\n",
            "EPOCH: 3.133  trn_loss: 0.172  trn_loc_loss: 0.048  trn_regr_loss: 0.117  trn_loss_objectness: 0.002  trn_loss_rpn_box_reg: 0.004  (262.79s - 156.56s remaining)\n",
            "EPOCH: 3.150  trn_loss: 0.079  trn_loc_loss: 0.024  trn_regr_loss: 0.053  trn_loss_objectness: 0.001  trn_loss_rpn_box_reg: 0.001  (263.61s - 154.82s remaining)\n",
            "EPOCH: 3.167  trn_loss: 0.123  trn_loc_loss: 0.038  trn_regr_loss: 0.079  trn_loss_objectness: 0.004  trn_loss_rpn_box_reg: 0.002  (264.43s - 153.09s remaining)\n",
            "EPOCH: 3.183  trn_loss: 0.170  trn_loc_loss: 0.054  trn_regr_loss: 0.114  trn_loss_objectness: 0.000  trn_loss_rpn_box_reg: 0.002  (265.27s - 151.39s remaining)\n",
            "EPOCH: 3.200  trn_loss: 0.136  trn_loc_loss: 0.039  trn_regr_loss: 0.090  trn_loss_objectness: 0.003  trn_loss_rpn_box_reg: 0.004  (266.10s - 149.68s remaining)\n",
            "EPOCH: 3.217  trn_loss: 0.141  trn_loc_loss: 0.044  trn_regr_loss: 0.094  trn_loss_objectness: 0.000  trn_loss_rpn_box_reg: 0.002  (266.92s - 147.98s remaining)\n",
            "EPOCH: 3.233  trn_loss: 0.060  trn_loc_loss: 0.016  trn_regr_loss: 0.042  trn_loss_objectness: 0.000  trn_loss_rpn_box_reg: 0.002  (267.75s - 146.29s remaining)\n",
            "EPOCH: 3.250  trn_loss: 0.237  trn_loc_loss: 0.056  trn_regr_loss: 0.171  trn_loss_objectness: 0.001  trn_loss_rpn_box_reg: 0.009  (268.57s - 144.61s remaining)\n",
            "EPOCH: 3.267  trn_loss: 0.213  trn_loc_loss: 0.044  trn_regr_loss: 0.166  trn_loss_objectness: 0.001  trn_loss_rpn_box_reg: 0.002  (269.38s - 142.94s remaining)\n",
            "EPOCH: 3.283  trn_loss: 0.104  trn_loc_loss: 0.035  trn_regr_loss: 0.063  trn_loss_objectness: 0.003  trn_loss_rpn_box_reg: 0.003  (270.18s - 141.26s remaining)\n",
            "EPOCH: 3.300  trn_loss: 0.138  trn_loc_loss: 0.047  trn_regr_loss: 0.086  trn_loss_objectness: 0.004  trn_loss_rpn_box_reg: 0.001  (271.00s - 139.61s remaining)\n",
            "EPOCH: 3.317  trn_loss: 0.067  trn_loc_loss: 0.022  trn_regr_loss: 0.041  trn_loss_objectness: 0.002  trn_loss_rpn_box_reg: 0.002  (271.82s - 137.96s remaining)\n",
            "EPOCH: 3.333  trn_loss: 0.172  trn_loc_loss: 0.064  trn_regr_loss: 0.101  trn_loss_objectness: 0.003  trn_loss_rpn_box_reg: 0.004  (272.63s - 136.32s remaining)\n",
            "EPOCH: 3.350  trn_loss: 0.143  trn_loc_loss: 0.040  trn_regr_loss: 0.101  trn_loss_objectness: 0.000  trn_loss_rpn_box_reg: 0.002  (273.50s - 134.71s remaining)\n",
            "EPOCH: 3.367  trn_loss: 0.180  trn_loc_loss: 0.056  trn_regr_loss: 0.119  trn_loss_objectness: 0.001  trn_loss_rpn_box_reg: 0.004  (274.31s - 133.08s remaining)\n",
            "EPOCH: 3.383  trn_loss: 0.259  trn_loc_loss: 0.067  trn_regr_loss: 0.189  trn_loss_objectness: 0.001  trn_loss_rpn_box_reg: 0.003  (275.12s - 131.46s remaining)\n",
            "EPOCH: 3.400  trn_loss: 0.047  trn_loc_loss: 0.016  trn_regr_loss: 0.030  trn_loss_objectness: 0.000  trn_loss_rpn_box_reg: 0.001  (275.93s - 129.85s remaining)\n",
            "EPOCH: 3.417  trn_loss: 0.118  trn_loc_loss: 0.036  trn_regr_loss: 0.077  trn_loss_objectness: 0.001  trn_loss_rpn_box_reg: 0.003  (276.76s - 128.25s remaining)\n",
            "EPOCH: 3.433  trn_loss: 0.076  trn_loc_loss: 0.024  trn_regr_loss: 0.050  trn_loss_objectness: 0.000  trn_loss_rpn_box_reg: 0.001  (277.58s - 126.66s remaining)\n",
            "EPOCH: 3.450  trn_loss: 0.127  trn_loc_loss: 0.044  trn_regr_loss: 0.078  trn_loss_objectness: 0.002  trn_loss_rpn_box_reg: 0.003  (278.38s - 125.07s remaining)\n",
            "EPOCH: 3.467  trn_loss: 0.292  trn_loc_loss: 0.084  trn_regr_loss: 0.198  trn_loss_objectness: 0.002  trn_loss_rpn_box_reg: 0.007  (279.18s - 123.48s remaining)\n",
            "EPOCH: 3.483  trn_loss: 0.289  trn_loc_loss: 0.095  trn_regr_loss: 0.175  trn_loss_objectness: 0.006  trn_loss_rpn_box_reg: 0.013  (279.99s - 121.91s remaining)\n",
            "EPOCH: 3.500  trn_loss: 0.072  trn_loc_loss: 0.019  trn_regr_loss: 0.041  trn_loss_objectness: 0.010  trn_loss_rpn_box_reg: 0.002  (280.80s - 120.34s remaining)\n",
            "EPOCH: 3.517  trn_loss: 0.127  trn_loc_loss: 0.041  trn_regr_loss: 0.083  trn_loss_objectness: 0.002  trn_loss_rpn_box_reg: 0.002  (281.61s - 118.78s remaining)\n",
            "EPOCH: 3.533  trn_loss: 0.065  trn_loc_loss: 0.024  trn_regr_loss: 0.037  trn_loss_objectness: 0.001  trn_loss_rpn_box_reg: 0.003  (282.42s - 117.23s remaining)\n",
            "EPOCH: 3.550  trn_loss: 0.144  trn_loc_loss: 0.049  trn_regr_loss: 0.090  trn_loss_objectness: 0.003  trn_loss_rpn_box_reg: 0.003  (283.22s - 115.68s remaining)\n",
            "EPOCH: 3.567  trn_loss: 0.082  trn_loc_loss: 0.021  trn_regr_loss: 0.059  trn_loss_objectness: 0.000  trn_loss_rpn_box_reg: 0.001  (284.05s - 114.15s remaining)\n",
            "EPOCH: 3.583  trn_loss: 0.073  trn_loc_loss: 0.020  trn_regr_loss: 0.051  trn_loss_objectness: 0.000  trn_loss_rpn_box_reg: 0.001  (284.91s - 112.64s remaining)\n",
            "EPOCH: 3.600  trn_loss: 0.098  trn_loc_loss: 0.031  trn_regr_loss: 0.063  trn_loss_objectness: 0.003  trn_loss_rpn_box_reg: 0.002  (285.72s - 111.11s remaining)\n",
            "EPOCH: 3.617  trn_loss: 0.126  trn_loc_loss: 0.032  trn_regr_loss: 0.087  trn_loss_objectness: 0.001  trn_loss_rpn_box_reg: 0.006  (286.53s - 109.60s remaining)\n",
            "EPOCH: 3.633  trn_loss: 0.200  trn_loc_loss: 0.048  trn_regr_loss: 0.143  trn_loss_objectness: 0.003  trn_loss_rpn_box_reg: 0.006  (287.37s - 108.09s remaining)\n",
            "EPOCH: 3.650  trn_loss: 0.110  trn_loc_loss: 0.040  trn_regr_loss: 0.068  trn_loss_objectness: 0.000  trn_loss_rpn_box_reg: 0.002  (288.18s - 106.59s remaining)\n",
            "EPOCH: 3.667  trn_loss: 0.146  trn_loc_loss: 0.052  trn_regr_loss: 0.083  trn_loss_objectness: 0.005  trn_loss_rpn_box_reg: 0.005  (288.99s - 105.09s remaining)\n",
            "EPOCH: 3.683  trn_loss: 0.203  trn_loc_loss: 0.085  trn_regr_loss: 0.111  trn_loss_objectness: 0.005  trn_loss_rpn_box_reg: 0.002  (289.81s - 103.60s remaining)\n",
            "EPOCH: 3.700  trn_loss: 0.156  trn_loc_loss: 0.039  trn_regr_loss: 0.112  trn_loss_objectness: 0.003  trn_loss_rpn_box_reg: 0.002  (290.63s - 102.11s remaining)\n",
            "EPOCH: 3.717  trn_loss: 0.133  trn_loc_loss: 0.039  trn_regr_loss: 0.089  trn_loss_objectness: 0.001  trn_loss_rpn_box_reg: 0.004  (291.48s - 100.65s remaining)\n",
            "EPOCH: 3.733  trn_loss: 0.093  trn_loc_loss: 0.029  trn_regr_loss: 0.063  trn_loss_objectness: 0.000  trn_loss_rpn_box_reg: 0.001  (292.29s - 99.17s remaining)\n",
            "EPOCH: 3.750  trn_loss: 0.099  trn_loc_loss: 0.030  trn_regr_loss: 0.066  trn_loss_objectness: 0.001  trn_loss_rpn_box_reg: 0.002  (293.11s - 97.70s remaining)\n",
            "EPOCH: 3.767  trn_loss: 0.163  trn_loc_loss: 0.046  trn_regr_loss: 0.112  trn_loss_objectness: 0.001  trn_loss_rpn_box_reg: 0.005  (293.91s - 96.24s remaining)\n",
            "EPOCH: 3.783  trn_loss: 0.265  trn_loc_loss: 0.076  trn_regr_loss: 0.182  trn_loss_objectness: 0.001  trn_loss_rpn_box_reg: 0.005  (294.75s - 94.79s remaining)\n",
            "EPOCH: 3.800  trn_loss: 0.195  trn_loc_loss: 0.059  trn_regr_loss: 0.128  trn_loss_objectness: 0.005  trn_loss_rpn_box_reg: 0.003  (295.56s - 93.34s remaining)\n",
            "EPOCH: 3.817  trn_loss: 0.231  trn_loc_loss: 0.062  trn_regr_loss: 0.160  trn_loss_objectness: 0.004  trn_loss_rpn_box_reg: 0.004  (296.37s - 91.89s remaining)\n",
            "EPOCH: 3.833  trn_loss: 0.199  trn_loc_loss: 0.067  trn_regr_loss: 0.120  trn_loss_objectness: 0.003  trn_loss_rpn_box_reg: 0.009  (297.18s - 90.44s remaining)\n",
            "EPOCH: 3.850  trn_loss: 0.199  trn_loc_loss: 0.069  trn_regr_loss: 0.120  trn_loss_objectness: 0.006  trn_loss_rpn_box_reg: 0.004  (298.00s - 89.01s remaining)\n",
            "EPOCH: 3.867  trn_loss: 0.065  trn_loc_loss: 0.020  trn_regr_loss: 0.039  trn_loss_objectness: 0.003  trn_loss_rpn_box_reg: 0.003  (299.16s - 87.68s remaining)\n",
            "EPOCH: 3.883  trn_loss: 0.191  trn_loc_loss: 0.049  trn_regr_loss: 0.128  trn_loss_objectness: 0.004  trn_loss_rpn_box_reg: 0.009  (299.95s - 86.25s remaining)\n",
            "EPOCH: 3.900  trn_loss: 0.091  trn_loc_loss: 0.021  trn_regr_loss: 0.069  trn_loss_objectness: 0.000  trn_loss_rpn_box_reg: 0.001  (300.77s - 84.83s remaining)\n",
            "EPOCH: 3.917  trn_loss: 0.109  trn_loc_loss: 0.044  trn_regr_loss: 0.059  trn_loss_objectness: 0.004  trn_loss_rpn_box_reg: 0.002  (301.60s - 83.42s remaining)\n",
            "EPOCH: 3.933  trn_loss: 0.171  trn_loc_loss: 0.039  trn_regr_loss: 0.125  trn_loss_objectness: 0.002  trn_loss_rpn_box_reg: 0.005  (302.43s - 82.01s remaining)\n",
            "EPOCH: 3.950  trn_loss: 0.146  trn_loc_loss: 0.036  trn_regr_loss: 0.106  trn_loss_objectness: 0.001  trn_loss_rpn_box_reg: 0.003  (303.31s - 80.63s remaining)\n",
            "EPOCH: 3.967  trn_loss: 0.124  trn_loc_loss: 0.042  trn_regr_loss: 0.079  trn_loss_objectness: 0.000  trn_loss_rpn_box_reg: 0.003  (304.12s - 79.22s remaining)\n",
            "EPOCH: 3.983  trn_loss: 0.137  trn_loc_loss: 0.047  trn_regr_loss: 0.087  trn_loss_objectness: 0.001  trn_loss_rpn_box_reg: 0.002  (304.92s - 77.82s remaining)\n",
            "EPOCH: 4.000  trn_loss: 0.143  trn_loc_loss: 0.039  trn_regr_loss: 0.095  trn_loss_objectness: 0.001  trn_loss_rpn_box_reg: 0.008  (305.72s - 76.43s remaining)\n",
            "EPOCH: 3.033  val_loss: 0.076  val_loc_loss: 0.028  val_regr_loss: 0.046  val_loss_objectness: 0.001  val_loss_rpn_box_reg: 0.001  (305.92s - 198.34s remaining)\n",
            "EPOCH: 3.067  val_loss: 0.357  val_loc_loss: 0.094  val_regr_loss: 0.253  val_loss_objectness: 0.005  val_loss_rpn_box_reg: 0.005  (306.11s - 192.98s remaining)\n",
            "EPOCH: 3.100  val_loss: 0.138  val_loc_loss: 0.032  val_regr_loss: 0.101  val_loss_objectness: 0.001  val_loss_rpn_box_reg: 0.003  (306.32s - 187.75s remaining)\n",
            "EPOCH: 3.133  val_loss: 0.262  val_loc_loss: 0.103  val_regr_loss: 0.148  val_loss_objectness: 0.007  val_loss_rpn_box_reg: 0.004  (306.55s - 182.63s remaining)\n",
            "EPOCH: 3.167  val_loss: 0.068  val_loc_loss: 0.021  val_regr_loss: 0.033  val_loss_objectness: 0.003  val_loss_rpn_box_reg: 0.012  (306.73s - 177.58s remaining)\n",
            "EPOCH: 3.200  val_loss: 0.234  val_loc_loss: 0.078  val_regr_loss: 0.123  val_loss_objectness: 0.019  val_loss_rpn_box_reg: 0.014  (306.94s - 172.65s remaining)\n",
            "EPOCH: 3.233  val_loss: 0.122  val_loc_loss: 0.043  val_regr_loss: 0.074  val_loss_objectness: 0.001  val_loss_rpn_box_reg: 0.004  (307.13s - 167.81s remaining)\n",
            "EPOCH: 3.267  val_loss: 0.119  val_loc_loss: 0.032  val_regr_loss: 0.080  val_loss_objectness: 0.001  val_loss_rpn_box_reg: 0.006  (307.33s - 163.07s remaining)\n",
            "EPOCH: 3.300  val_loss: 0.270  val_loc_loss: 0.080  val_regr_loss: 0.181  val_loss_objectness: 0.002  val_loss_rpn_box_reg: 0.006  (307.51s - 158.42s remaining)\n",
            "EPOCH: 3.333  val_loss: 0.190  val_loc_loss: 0.041  val_regr_loss: 0.142  val_loss_objectness: 0.003  val_loss_rpn_box_reg: 0.004  (307.70s - 153.85s remaining)\n",
            "EPOCH: 3.367  val_loss: 0.294  val_loc_loss: 0.093  val_regr_loss: 0.168  val_loss_objectness: 0.025  val_loss_rpn_box_reg: 0.007  (307.92s - 149.39s remaining)\n",
            "EPOCH: 3.400  val_loss: 0.072  val_loc_loss: 0.020  val_regr_loss: 0.047  val_loss_objectness: 0.003  val_loss_rpn_box_reg: 0.002  (308.11s - 144.99s remaining)\n",
            "EPOCH: 3.433  val_loss: 0.082  val_loc_loss: 0.026  val_regr_loss: 0.052  val_loss_objectness: 0.002  val_loss_rpn_box_reg: 0.002  (308.29s - 140.68s remaining)\n",
            "EPOCH: 3.467  val_loss: 0.046  val_loc_loss: 0.014  val_regr_loss: 0.029  val_loss_objectness: 0.001  val_loss_rpn_box_reg: 0.002  (308.49s - 136.45s remaining)\n",
            "EPOCH: 3.500  val_loss: 0.282  val_loc_loss: 0.089  val_regr_loss: 0.173  val_loss_objectness: 0.007  val_loss_rpn_box_reg: 0.013  (308.69s - 132.29s remaining)\n",
            "EPOCH: 3.533  val_loss: 0.144  val_loc_loss: 0.075  val_regr_loss: 0.067  val_loss_objectness: 0.000  val_loss_rpn_box_reg: 0.002  (308.93s - 128.23s remaining)\n",
            "EPOCH: 3.567  val_loss: 0.053  val_loc_loss: 0.014  val_regr_loss: 0.030  val_loss_objectness: 0.001  val_loss_rpn_box_reg: 0.008  (309.12s - 124.23s remaining)\n",
            "EPOCH: 3.600  val_loss: 0.023  val_loc_loss: 0.008  val_regr_loss: 0.012  val_loss_objectness: 0.001  val_loss_rpn_box_reg: 0.002  (309.35s - 120.30s remaining)\n",
            "EPOCH: 3.633  val_loss: 0.098  val_loc_loss: 0.033  val_regr_loss: 0.060  val_loss_objectness: 0.002  val_loss_rpn_box_reg: 0.003  (309.55s - 116.44s remaining)\n",
            "EPOCH: 3.667  val_loss: 0.170  val_loc_loss: 0.057  val_regr_loss: 0.110  val_loss_objectness: 0.000  val_loss_rpn_box_reg: 0.003  (309.75s - 112.64s remaining)\n",
            "EPOCH: 3.700  val_loss: 0.044  val_loc_loss: 0.014  val_regr_loss: 0.028  val_loss_objectness: 0.000  val_loss_rpn_box_reg: 0.001  (309.95s - 108.90s remaining)\n",
            "EPOCH: 3.733  val_loss: 0.066  val_loc_loss: 0.022  val_regr_loss: 0.044  val_loss_objectness: 0.000  val_loss_rpn_box_reg: 0.000  (310.15s - 105.23s remaining)\n",
            "EPOCH: 3.767  val_loss: 0.060  val_loc_loss: 0.020  val_regr_loss: 0.039  val_loss_objectness: 0.000  val_loss_rpn_box_reg: 0.001  (310.36s - 101.62s remaining)\n",
            "EPOCH: 3.800  val_loss: 0.291  val_loc_loss: 0.131  val_regr_loss: 0.151  val_loss_objectness: 0.004  val_loss_rpn_box_reg: 0.005  (310.55s - 98.07s remaining)\n",
            "EPOCH: 3.833  val_loss: 0.229  val_loc_loss: 0.081  val_regr_loss: 0.143  val_loss_objectness: 0.001  val_loss_rpn_box_reg: 0.003  (310.75s - 94.58s remaining)\n",
            "EPOCH: 3.867  val_loss: 0.033  val_loc_loss: 0.013  val_regr_loss: 0.019  val_loss_objectness: 0.000  val_loss_rpn_box_reg: 0.001  (310.99s - 91.15s remaining)\n",
            "EPOCH: 3.900  val_loss: 0.430  val_loc_loss: 0.140  val_regr_loss: 0.271  val_loss_objectness: 0.010  val_loss_rpn_box_reg: 0.008  (311.19s - 87.77s remaining)\n",
            "EPOCH: 3.933  val_loss: 0.191  val_loc_loss: 0.044  val_regr_loss: 0.138  val_loss_objectness: 0.007  val_loss_rpn_box_reg: 0.003  (311.38s - 84.44s remaining)\n",
            "EPOCH: 3.967  val_loss: 0.382  val_loc_loss: 0.124  val_regr_loss: 0.240  val_loss_objectness: 0.008  val_loss_rpn_box_reg: 0.010  (311.56s - 81.16s remaining)\n",
            "EPOCH: 4.000  val_loss: 0.169  val_loc_loss: 0.069  val_regr_loss: 0.090  val_loss_objectness: 0.005  val_loss_rpn_box_reg: 0.005  (311.75s - 77.94s remaining)\n",
            "EPOCH: 4.000  val_regr_loss: 0.101  trn_loss_objectness: 0.002  val_loss: 0.162  val_loss_rpn_box_reg: 0.005  trn_loss: 0.140  trn_regr_loss: 0.093  trn_loss_rpn_box_reg: 0.003  val_loss_objectness: 0.004  trn_loc_loss: 0.042  val_loc_loss: 0.053  (311.75s - 77.94s remaining)\n",
            "EPOCH: 4.017  trn_loss: 0.100  trn_loc_loss: 0.034  trn_regr_loss: 0.064  trn_loss_objectness: 0.000  trn_loss_rpn_box_reg: 0.002  (312.55s - 76.52s remaining)\n",
            "EPOCH: 4.033  trn_loss: 0.074  trn_loc_loss: 0.021  trn_regr_loss: 0.049  trn_loss_objectness: 0.003  trn_loss_rpn_box_reg: 0.001  (313.37s - 75.10s remaining)\n",
            "EPOCH: 4.050  trn_loss: 0.080  trn_loc_loss: 0.032  trn_regr_loss: 0.045  trn_loss_objectness: 0.002  trn_loss_rpn_box_reg: 0.001  (314.19s - 73.70s remaining)\n",
            "EPOCH: 4.067  trn_loss: 0.085  trn_loc_loss: 0.036  trn_regr_loss: 0.045  trn_loss_objectness: 0.003  trn_loss_rpn_box_reg: 0.001  (315.00s - 72.29s remaining)\n",
            "EPOCH: 4.083  trn_loss: 0.151  trn_loc_loss: 0.047  trn_regr_loss: 0.097  trn_loss_objectness: 0.000  trn_loss_rpn_box_reg: 0.007  (315.80s - 70.89s remaining)\n",
            "EPOCH: 4.100  trn_loss: 0.092  trn_loc_loss: 0.032  trn_regr_loss: 0.058  trn_loss_objectness: 0.001  trn_loss_rpn_box_reg: 0.003  (316.60s - 69.50s remaining)\n",
            "EPOCH: 4.117  trn_loss: 0.098  trn_loc_loss: 0.029  trn_regr_loss: 0.064  trn_loss_objectness: 0.001  trn_loss_rpn_box_reg: 0.003  (317.42s - 68.11s remaining)\n",
            "EPOCH: 4.133  trn_loss: 0.067  trn_loc_loss: 0.016  trn_regr_loss: 0.043  trn_loss_objectness: 0.006  trn_loss_rpn_box_reg: 0.001  (318.23s - 66.73s remaining)\n",
            "EPOCH: 4.150  trn_loss: 0.134  trn_loc_loss: 0.031  trn_regr_loss: 0.100  trn_loss_objectness: 0.000  trn_loss_rpn_box_reg: 0.003  (319.03s - 65.34s remaining)\n",
            "EPOCH: 4.167  trn_loss: 0.131  trn_loc_loss: 0.036  trn_regr_loss: 0.089  trn_loss_objectness: 0.001  trn_loss_rpn_box_reg: 0.004  (319.84s - 63.97s remaining)\n",
            "EPOCH: 4.183  trn_loss: 0.161  trn_loc_loss: 0.043  trn_regr_loss: 0.114  trn_loss_objectness: 0.001  trn_loss_rpn_box_reg: 0.003  (320.69s - 62.61s remaining)\n",
            "EPOCH: 4.200  trn_loss: 0.251  trn_loc_loss: 0.066  trn_regr_loss: 0.179  trn_loss_objectness: 0.001  trn_loss_rpn_box_reg: 0.004  (321.50s - 61.24s remaining)\n",
            "EPOCH: 4.217  trn_loss: 0.101  trn_loc_loss: 0.029  trn_regr_loss: 0.067  trn_loss_objectness: 0.002  trn_loss_rpn_box_reg: 0.003  (322.35s - 59.88s remaining)\n",
            "EPOCH: 4.233  trn_loss: 0.067  trn_loc_loss: 0.018  trn_regr_loss: 0.045  trn_loss_objectness: 0.003  trn_loss_rpn_box_reg: 0.001  (323.16s - 58.53s remaining)\n",
            "EPOCH: 4.250  trn_loss: 0.113  trn_loc_loss: 0.035  trn_regr_loss: 0.075  trn_loss_objectness: 0.002  trn_loss_rpn_box_reg: 0.002  (323.99s - 57.17s remaining)\n",
            "EPOCH: 4.267  trn_loss: 0.146  trn_loc_loss: 0.036  trn_regr_loss: 0.101  trn_loss_objectness: 0.001  trn_loss_rpn_box_reg: 0.007  (324.78s - 55.82s remaining)\n",
            "EPOCH: 4.283  trn_loss: 0.085  trn_loc_loss: 0.023  trn_regr_loss: 0.058  trn_loss_objectness: 0.001  trn_loss_rpn_box_reg: 0.003  (325.58s - 54.48s remaining)\n",
            "EPOCH: 4.300  trn_loss: 0.121  trn_loc_loss: 0.041  trn_regr_loss: 0.077  trn_loss_objectness: 0.001  trn_loss_rpn_box_reg: 0.002  (326.42s - 53.14s remaining)\n",
            "EPOCH: 4.317  trn_loss: 0.044  trn_loc_loss: 0.015  trn_regr_loss: 0.028  trn_loss_objectness: 0.001  trn_loss_rpn_box_reg: 0.002  (327.21s - 51.80s remaining)\n",
            "EPOCH: 4.333  trn_loss: 0.119  trn_loc_loss: 0.038  trn_regr_loss: 0.078  trn_loss_objectness: 0.001  trn_loss_rpn_box_reg: 0.003  (328.01s - 50.46s remaining)\n",
            "EPOCH: 4.350  trn_loss: 0.148  trn_loc_loss: 0.036  trn_regr_loss: 0.105  trn_loss_objectness: 0.005  trn_loss_rpn_box_reg: 0.003  (328.83s - 49.13s remaining)\n",
            "EPOCH: 4.367  trn_loss: 0.119  trn_loc_loss: 0.033  trn_regr_loss: 0.083  trn_loss_objectness: 0.000  trn_loss_rpn_box_reg: 0.002  (329.64s - 47.81s remaining)\n",
            "EPOCH: 4.383  trn_loss: 0.111  trn_loc_loss: 0.029  trn_regr_loss: 0.078  trn_loss_objectness: 0.001  trn_loss_rpn_box_reg: 0.003  (330.44s - 46.49s remaining)\n",
            "EPOCH: 4.400  trn_loss: 0.192  trn_loc_loss: 0.064  trn_regr_loss: 0.124  trn_loss_objectness: 0.001  trn_loss_rpn_box_reg: 0.003  (331.25s - 45.17s remaining)\n",
            "EPOCH: 4.417  trn_loss: 0.155  trn_loc_loss: 0.037  trn_regr_loss: 0.105  trn_loss_objectness: 0.007  trn_loss_rpn_box_reg: 0.005  (332.05s - 43.86s remaining)\n",
            "EPOCH: 4.433  trn_loss: 0.251  trn_loc_loss: 0.079  trn_regr_loss: 0.159  trn_loss_objectness: 0.002  trn_loss_rpn_box_reg: 0.011  (332.86s - 42.55s remaining)\n",
            "EPOCH: 4.450  trn_loss: 0.193  trn_loc_loss: 0.062  trn_regr_loss: 0.125  trn_loss_objectness: 0.003  trn_loss_rpn_box_reg: 0.003  (333.68s - 41.24s remaining)\n",
            "EPOCH: 4.467  trn_loss: 0.153  trn_loc_loss: 0.037  trn_regr_loss: 0.108  trn_loss_objectness: 0.006  trn_loss_rpn_box_reg: 0.003  (334.53s - 39.94s remaining)\n",
            "EPOCH: 4.483  trn_loss: 0.164  trn_loc_loss: 0.043  trn_regr_loss: 0.117  trn_loss_objectness: 0.002  trn_loss_rpn_box_reg: 0.001  (335.39s - 38.65s remaining)\n",
            "EPOCH: 4.500  trn_loss: 0.135  trn_loc_loss: 0.036  trn_regr_loss: 0.096  trn_loss_objectness: 0.000  trn_loss_rpn_box_reg: 0.002  (336.21s - 37.36s remaining)\n",
            "EPOCH: 4.517  trn_loss: 0.106  trn_loc_loss: 0.033  trn_regr_loss: 0.069  trn_loss_objectness: 0.001  trn_loss_rpn_box_reg: 0.002  (337.03s - 36.07s remaining)\n",
            "EPOCH: 4.533  trn_loss: 0.069  trn_loc_loss: 0.017  trn_regr_loss: 0.051  trn_loss_objectness: 0.000  trn_loss_rpn_box_reg: 0.002  (337.83s - 34.78s remaining)\n",
            "EPOCH: 4.550  trn_loss: 0.075  trn_loc_loss: 0.026  trn_regr_loss: 0.047  trn_loss_objectness: 0.000  trn_loss_rpn_box_reg: 0.002  (338.64s - 33.49s remaining)\n",
            "EPOCH: 4.567  trn_loss: 0.084  trn_loc_loss: 0.019  trn_regr_loss: 0.059  trn_loss_objectness: 0.005  trn_loss_rpn_box_reg: 0.001  (339.48s - 32.21s remaining)\n",
            "EPOCH: 4.583  trn_loss: 0.145  trn_loc_loss: 0.049  trn_regr_loss: 0.093  trn_loss_objectness: 0.000  trn_loss_rpn_box_reg: 0.002  (340.29s - 30.94s remaining)\n",
            "EPOCH: 4.600  trn_loss: 0.117  trn_loc_loss: 0.041  trn_regr_loss: 0.073  trn_loss_objectness: 0.001  trn_loss_rpn_box_reg: 0.001  (341.10s - 29.66s remaining)\n",
            "EPOCH: 4.617  trn_loss: 0.140  trn_loc_loss: 0.044  trn_regr_loss: 0.091  trn_loss_objectness: 0.001  trn_loss_rpn_box_reg: 0.004  (341.92s - 28.39s remaining)\n",
            "EPOCH: 4.633  trn_loss: 0.114  trn_loc_loss: 0.030  trn_regr_loss: 0.082  trn_loss_objectness: 0.000  trn_loss_rpn_box_reg: 0.002  (342.74s - 27.12s remaining)\n",
            "EPOCH: 4.650  trn_loss: 0.130  trn_loc_loss: 0.045  trn_regr_loss: 0.082  trn_loss_objectness: 0.000  trn_loss_rpn_box_reg: 0.002  (343.55s - 25.86s remaining)\n",
            "EPOCH: 4.667  trn_loss: 0.057  trn_loc_loss: 0.015  trn_regr_loss: 0.041  trn_loss_objectness: 0.000  trn_loss_rpn_box_reg: 0.001  (344.37s - 24.60s remaining)\n",
            "EPOCH: 4.683  trn_loss: 0.234  trn_loc_loss: 0.060  trn_regr_loss: 0.167  trn_loss_objectness: 0.003  trn_loss_rpn_box_reg: 0.004  (345.17s - 23.34s remaining)\n",
            "EPOCH: 4.700  trn_loss: 0.134  trn_loc_loss: 0.026  trn_regr_loss: 0.104  trn_loss_objectness: 0.002  trn_loss_rpn_box_reg: 0.002  (346.07s - 22.09s remaining)\n",
            "EPOCH: 4.717  trn_loss: 0.059  trn_loc_loss: 0.021  trn_regr_loss: 0.037  trn_loss_objectness: 0.000  trn_loss_rpn_box_reg: 0.001  (346.89s - 20.84s remaining)\n",
            "EPOCH: 4.733  trn_loss: 0.069  trn_loc_loss: 0.020  trn_regr_loss: 0.044  trn_loss_objectness: 0.001  trn_loss_rpn_box_reg: 0.004  (347.73s - 19.59s remaining)\n",
            "EPOCH: 4.750  trn_loss: 0.140  trn_loc_loss: 0.030  trn_regr_loss: 0.104  trn_loss_objectness: 0.000  trn_loss_rpn_box_reg: 0.006  (348.80s - 18.36s remaining)\n",
            "EPOCH: 4.767  trn_loss: 0.143  trn_loc_loss: 0.043  trn_regr_loss: 0.098  trn_loss_objectness: 0.001  trn_loss_rpn_box_reg: 0.002  (349.61s - 17.11s remaining)\n",
            "EPOCH: 4.783  trn_loss: 0.096  trn_loc_loss: 0.030  trn_regr_loss: 0.064  trn_loss_objectness: 0.001  trn_loss_rpn_box_reg: 0.002  (350.42s - 15.87s remaining)\n",
            "EPOCH: 4.800  trn_loss: 0.051  trn_loc_loss: 0.013  trn_regr_loss: 0.036  trn_loss_objectness: 0.000  trn_loss_rpn_box_reg: 0.001  (351.23s - 14.63s remaining)\n",
            "EPOCH: 4.817  trn_loss: 0.052  trn_loc_loss: 0.016  trn_regr_loss: 0.031  trn_loss_objectness: 0.002  trn_loss_rpn_box_reg: 0.002  (352.12s - 13.40s remaining)\n",
            "EPOCH: 4.833  trn_loss: 0.159  trn_loc_loss: 0.039  trn_regr_loss: 0.118  trn_loss_objectness: 0.000  trn_loss_rpn_box_reg: 0.002  (352.93s - 12.17s remaining)\n",
            "EPOCH: 4.850  trn_loss: 0.115  trn_loc_loss: 0.039  trn_regr_loss: 0.071  trn_loss_objectness: 0.002  trn_loss_rpn_box_reg: 0.003  (353.76s - 10.94s remaining)\n",
            "EPOCH: 4.867  trn_loss: 0.090  trn_loc_loss: 0.027  trn_regr_loss: 0.061  trn_loss_objectness: 0.001  trn_loss_rpn_box_reg: 0.001  (354.56s - 9.71s remaining)\n",
            "EPOCH: 4.883  trn_loss: 0.130  trn_loc_loss: 0.041  trn_regr_loss: 0.081  trn_loss_objectness: 0.001  trn_loss_rpn_box_reg: 0.006  (355.36s - 8.49s remaining)\n",
            "EPOCH: 4.900  trn_loss: 0.257  trn_loc_loss: 0.085  trn_regr_loss: 0.164  trn_loss_objectness: 0.000  trn_loss_rpn_box_reg: 0.007  (356.17s - 7.27s remaining)\n",
            "EPOCH: 4.917  trn_loss: 0.065  trn_loc_loss: 0.021  trn_regr_loss: 0.043  trn_loss_objectness: 0.000  trn_loss_rpn_box_reg: 0.001  (357.07s - 6.05s remaining)\n",
            "EPOCH: 4.933  trn_loss: 0.084  trn_loc_loss: 0.024  trn_regr_loss: 0.058  trn_loss_objectness: 0.000  trn_loss_rpn_box_reg: 0.001  (357.89s - 4.84s remaining)\n",
            "EPOCH: 4.950  trn_loss: 0.171  trn_loc_loss: 0.052  trn_regr_loss: 0.113  trn_loss_objectness: 0.001  trn_loss_rpn_box_reg: 0.004  (358.72s - 3.62s remaining)\n",
            "EPOCH: 4.967  trn_loss: 0.055  trn_loc_loss: 0.020  trn_regr_loss: 0.033  trn_loss_objectness: 0.001  trn_loss_rpn_box_reg: 0.002  (359.54s - 2.41s remaining)\n",
            "EPOCH: 4.983  trn_loss: 0.057  trn_loc_loss: 0.018  trn_regr_loss: 0.038  trn_loss_objectness: 0.000  trn_loss_rpn_box_reg: 0.001  (360.35s - 1.21s remaining)\n",
            "EPOCH: 5.000  trn_loss: 0.103  trn_loc_loss: 0.034  trn_regr_loss: 0.062  trn_loss_objectness: 0.002  trn_loss_rpn_box_reg: 0.004  (361.18s - 0.00s remaining)\n",
            "EPOCH: 4.033  val_loss: 0.236  val_loc_loss: 0.064  val_regr_loss: 0.163  val_loss_objectness: 0.006  val_loss_rpn_box_reg: 0.003  (361.38s - 86.61s remaining)\n",
            "EPOCH: 4.067  val_loss: 0.106  val_loc_loss: 0.025  val_regr_loss: 0.068  val_loss_objectness: 0.002  val_loss_rpn_box_reg: 0.012  (361.58s - 82.99s remaining)\n",
            "EPOCH: 4.100  val_loss: 0.127  val_loc_loss: 0.039  val_regr_loss: 0.081  val_loss_objectness: 0.004  val_loss_rpn_box_reg: 0.004  (361.77s - 79.41s remaining)\n",
            "EPOCH: 4.133  val_loss: 0.077  val_loc_loss: 0.021  val_regr_loss: 0.054  val_loss_objectness: 0.000  val_loss_rpn_box_reg: 0.002  (361.95s - 75.89s remaining)\n",
            "EPOCH: 4.167  val_loss: 0.042  val_loc_loss: 0.016  val_regr_loss: 0.025  val_loss_objectness: 0.000  val_loss_rpn_box_reg: 0.000  (362.14s - 72.43s remaining)\n",
            "EPOCH: 4.200  val_loss: 0.283  val_loc_loss: 0.128  val_regr_loss: 0.147  val_loss_objectness: 0.002  val_loss_rpn_box_reg: 0.006  (362.33s - 69.02s remaining)\n",
            "EPOCH: 4.233  val_loss: 0.089  val_loc_loss: 0.025  val_regr_loss: 0.060  val_loss_objectness: 0.000  val_loss_rpn_box_reg: 0.003  (362.54s - 65.66s remaining)\n",
            "EPOCH: 4.267  val_loss: 0.164  val_loc_loss: 0.057  val_regr_loss: 0.100  val_loss_objectness: 0.004  val_loss_rpn_box_reg: 0.003  (362.73s - 62.34s remaining)\n",
            "EPOCH: 4.300  val_loss: 0.157  val_loc_loss: 0.046  val_regr_loss: 0.108  val_loss_objectness: 0.001  val_loss_rpn_box_reg: 0.002  (362.91s - 59.08s remaining)\n",
            "EPOCH: 4.333  val_loss: 0.076  val_loc_loss: 0.016  val_regr_loss: 0.051  val_loss_objectness: 0.001  val_loss_rpn_box_reg: 0.009  (363.10s - 55.86s remaining)\n",
            "EPOCH: 4.367  val_loss: 0.087  val_loc_loss: 0.016  val_regr_loss: 0.064  val_loss_objectness: 0.003  val_loss_rpn_box_reg: 0.005  (363.30s - 52.69s remaining)\n",
            "EPOCH: 4.400  val_loss: 0.111  val_loc_loss: 0.023  val_regr_loss: 0.081  val_loss_objectness: 0.001  val_loss_rpn_box_reg: 0.006  (363.49s - 49.57s remaining)\n",
            "EPOCH: 4.433  val_loss: 0.086  val_loc_loss: 0.020  val_regr_loss: 0.064  val_loss_objectness: 0.000  val_loss_rpn_box_reg: 0.001  (363.68s - 46.49s remaining)\n",
            "EPOCH: 4.467  val_loss: 0.048  val_loc_loss: 0.019  val_regr_loss: 0.025  val_loss_objectness: 0.001  val_loss_rpn_box_reg: 0.003  (363.88s - 43.45s remaining)\n",
            "EPOCH: 4.500  val_loss: 0.487  val_loc_loss: 0.175  val_regr_loss: 0.263  val_loss_objectness: 0.035  val_loss_rpn_box_reg: 0.013  (364.10s - 40.46s remaining)\n",
            "EPOCH: 4.533  val_loss: 0.467  val_loc_loss: 0.192  val_regr_loss: 0.265  val_loss_objectness: 0.004  val_loss_rpn_box_reg: 0.005  (364.32s - 37.50s remaining)\n",
            "EPOCH: 4.567  val_loss: 0.153  val_loc_loss: 0.040  val_regr_loss: 0.108  val_loss_objectness: 0.001  val_loss_rpn_box_reg: 0.003  (364.51s - 34.59s remaining)\n",
            "EPOCH: 4.600  val_loss: 0.059  val_loc_loss: 0.021  val_regr_loss: 0.036  val_loss_objectness: 0.000  val_loss_rpn_box_reg: 0.002  (364.71s - 31.71s remaining)\n",
            "EPOCH: 4.633  val_loss: 0.045  val_loc_loss: 0.015  val_regr_loss: 0.028  val_loss_objectness: 0.000  val_loss_rpn_box_reg: 0.001  (364.92s - 28.88s remaining)\n",
            "EPOCH: 4.667  val_loss: 0.102  val_loc_loss: 0.033  val_regr_loss: 0.063  val_loss_objectness: 0.001  val_loss_rpn_box_reg: 0.004  (365.13s - 26.08s remaining)\n",
            "EPOCH: 4.700  val_loss: 0.197  val_loc_loss: 0.074  val_regr_loss: 0.119  val_loss_objectness: 0.000  val_loss_rpn_box_reg: 0.004  (365.34s - 23.32s remaining)\n",
            "EPOCH: 4.733  val_loss: 0.094  val_loc_loss: 0.027  val_regr_loss: 0.064  val_loss_objectness: 0.001  val_loss_rpn_box_reg: 0.003  (365.54s - 20.59s remaining)\n",
            "EPOCH: 4.767  val_loss: 0.307  val_loc_loss: 0.072  val_regr_loss: 0.214  val_loss_objectness: 0.016  val_loss_rpn_box_reg: 0.006  (365.76s - 17.90s remaining)\n",
            "EPOCH: 4.800  val_loss: 0.197  val_loc_loss: 0.085  val_regr_loss: 0.105  val_loss_objectness: 0.003  val_loss_rpn_box_reg: 0.004  (365.95s - 15.25s remaining)\n",
            "EPOCH: 4.833  val_loss: 0.391  val_loc_loss: 0.088  val_regr_loss: 0.271  val_loss_objectness: 0.021  val_loss_rpn_box_reg: 0.012  (366.14s - 12.63s remaining)\n",
            "EPOCH: 4.867  val_loss: 0.308  val_loc_loss: 0.088  val_regr_loss: 0.208  val_loss_objectness: 0.008  val_loss_rpn_box_reg: 0.004  (366.37s - 10.04s remaining)\n",
            "EPOCH: 4.900  val_loss: 0.345  val_loc_loss: 0.144  val_regr_loss: 0.181  val_loss_objectness: 0.002  val_loss_rpn_box_reg: 0.019  (366.58s - 7.48s remaining)\n",
            "EPOCH: 4.933  val_loss: 0.151  val_loc_loss: 0.029  val_regr_loss: 0.119  val_loss_objectness: 0.000  val_loss_rpn_box_reg: 0.003  (366.82s - 4.96s remaining)\n",
            "EPOCH: 4.967  val_loss: 0.059  val_loc_loss: 0.019  val_regr_loss: 0.035  val_loss_objectness: 0.001  val_loss_rpn_box_reg: 0.004  (367.05s - 2.46s remaining)\n",
            "EPOCH: 5.000  val_loss: 0.130  val_loc_loss: 0.048  val_regr_loss: 0.080  val_loss_objectness: 0.000  val_loss_rpn_box_reg: 0.002  (367.26s - 0.00s remaining)\n",
            "EPOCH: 5.000  val_regr_loss: 0.109  trn_loss_objectness: 0.001  val_loss: 0.174  val_loss_rpn_box_reg: 0.005  trn_loss: 0.120  trn_regr_loss: 0.080  trn_loss_rpn_box_reg: 0.003  val_loss_objectness: 0.004  trn_loc_loss: 0.035  val_loc_loss: 0.056  (367.26s - 0.00s remaining)\n"
          ]
        },
        {
          "output_type": "stream",
          "name": "stderr",
          "text": [
            "100%|██████████| 106/106 [00:00<00:00, 9432.20it/s]\n"
          ]
        },
        {
          "output_type": "display_data",
          "data": {
            "text/plain": [
              "<Figure size 800x600 with 1 Axes>"
            ],
            "image/png": "[encoded data removed]"
          },
          "metadata": {}
        },
        {
          "output_type": "display_data",
          "data": {
            "text/plain": [
              "VBox(children=(Label(value='0.002 MB of 0.002 MB uploaded\\r'), FloatProgress(value=1.0, max=1.0)))"
            ],
            "application/vnd.jupyter.widget-view+json": {
              "version_major": 2,
              "version_minor": 0,
              "model_id": "11d0891ee98d49dfa6da255ef8601d4e"
            }
          },
          "metadata": {}
        },
        {
          "output_type": "display_data",
          "data": {
            "text/plain": [
              "<IPython.core.display.HTML object>"
            ],
            "text/html": [
              "<style>\n",
              "    table.wandb td:nth-child(1) { padding: 0 10px; text-align: left ; width: auto;} td:nth-child(2) {text-align: left ; width: 100%}\n",
              "    .wandb-row { display: flex; flex-direction: row; flex-wrap: wrap; justify-content: flex-start; width: 100% }\n",
              "    .wandb-col { display: flex; flex-direction: column; flex-basis: 100%; flex: 1; padding: 10px; }\n",
              "    </style>\n",
              "<div class=\"wandb-row\"><div class=\"wandb-col\"><h3>Run history:</h3><br/><table class=\"wandb\"><tr><td>trn_loc_loss</td><td>█▆▄▂▄▄▄▄▃▃▁▂▂▃▂▁▁▃▁▂▁▂▃▃▂▁▂▃▁▁▂▁▁▂▁▁▂▁▁▁</td></tr><tr><td>trn_loss</td><td>▇█▆▂▅▄▅▅▆▄▁▃▂▄▃▂▂▄▂▄▁▂▃▃▂▂▂▄▁▁▃▂▁▄▂▂▂▁▁▁</td></tr><tr><td>trn_loss_objectness</td><td>▂█▆▁▄▂▁▅▆▃▂▁▁▂▂▁▂▃▁▂▁▁▁▂▁▂▂▂▂▁▃▂▂▁▁▃▁▁▁▂</td></tr><tr><td>trn_loss_rpn_box_reg</td><td>▃▄▂▂█▄▄▃▅▆▁▄▃▄▅▃▂▄▁▄▂▂█▂▂▃▃▅▁▁▂▃▁▃▃▂▁▃▁▃</td></tr><tr><td>trn_regr_loss</td><td>▆█▆▂▅▄▅▅▇▄▁▄▃▄▄▂▂▄▂▆▁▂▄▂▃▂▃▅▂▁▃▃▁▅▂▃▂▁▁▁</td></tr><tr><td>val_loc_loss</td><td>▂▄▅▃▇▁█▂▅▅▂▂▂▅▃▅▃▃▂▃▄▅▂▁▅▄▂▁▁▂▆▃▂▆▁▁▂▂▅▃</td></tr><tr><td>val_loss</td><td>▂▄▅▂█▂█▂▄▅▂▂▁▅▅▅▃▂▂▃▄▄▂▂▆▄▄▁▁▂▅▄▂▅▂▁▂▂▅▃</td></tr><tr><td>val_loss_objectness</td><td>▂▃▂▁▅▂█▁▂▁▁▁▁▁▄▃▁▁▁▁▁▂▁▁▂▅▂▁▁▁▂▃▁▁▁▁▁▁▃▁</td></tr><tr><td>val_loss_rpn_box_reg</td><td>▁▄▃▃█▂▆▁▂▄▅▂▂▂▄▃▂▂▂▂▂▂▃▅▃▇▃▂▂▁▃▂▆▃▅▂▂▂▃▁</td></tr><tr><td>val_regr_loss</td><td>▂▄▅▂█▂▇▂▄▆▂▂▁▅▆▄▃▂▂▃▄▄▂▂▇▄▄▁▁▂▄▄▂▄▂▁▂▂▆▃</td></tr></table><br/></div><div class=\"wandb-col\"><h3>Run summary:</h3><br/><table class=\"wandb\"><tr><td>trn_loc_loss</td><td>0.03415</td></tr><tr><td>trn_loss</td><td>0.10314</td></tr><tr><td>trn_loss_objectness</td><td>0.00221</td></tr><tr><td>trn_loss_rpn_box_reg</td><td>0.00441</td></tr><tr><td>trn_regr_loss</td><td>0.06238</td></tr><tr><td>val_loc_loss</td><td>0.04832</td></tr><tr><td>val_loss</td><td>0.12994</td></tr><tr><td>val_loss_objectness</td><td>0.00037</td></tr><tr><td>val_loss_rpn_box_reg</td><td>0.00151</td></tr><tr><td>val_regr_loss</td><td>0.07974</td></tr></table><br/></div></div>"
            ]
          },
          "metadata": {}
        },
        {
          "output_type": "display_data",
          "data": {
            "text/plain": [
              "<IPython.core.display.HTML object>"
            ],
            "text/html": [
              " View run <strong style=\"color:#cdcd00\">snowy-music-3</strong> at: <a href='https://wandb.ai/unsal/faster_rcnn_112_112/runs/ka19uv7w' target=\"_blank\">https://wandb.ai/unsal/faster_rcnn_112_112/runs/ka19uv7w</a><br/> View project at: <a href='https://wandb.ai/unsal/faster_rcnn_112_112' target=\"_blank\">https://wandb.ai/unsal/faster_rcnn_112_112</a><br/>Synced 5 W&B file(s), 0 media file(s), 0 artifact file(s) and 0 other file(s)"
            ]
          },
          "metadata": {}
        },
        {
          "output_type": "display_data",
          "data": {
            "text/plain": [
              "<IPython.core.display.HTML object>"
            ],
            "text/html": [
              "Find logs at: <code>./wandb/run-20240503_135610-ka19uv7w/logs</code>"
            ]
          },
          "metadata": {}
        }
      ],
      "source": [
        "n_epochs = 5\n",
        "log = Report(n_epochs)\n",
        "# Inside training loop\n",
        "for e in range(n_epochs):\n",
        "    for i, batch in enumerate(tr_dl):\n",
        "        N = len(tr_dl)\n",
        "        loss, losses = train_batch(batch, model, optim)\n",
        "        loc_loss, regr_loss, loss_objectness, loss_rpn_box_reg = [losses[k] for k in\n",
        "                                                                  ['loss_classifier', 'loss_box_reg', 'loss_objectness', 'loss_rpn_box_reg']]\n",
        "        log.record(e + (i+1)/N, trn_loss=loss.item(), trn_loc_loss=loc_loss.item(),\n",
        "                   trn_regr_loss=regr_loss.item(), trn_loss_objectness=loss_objectness.item(),\n",
        "                   trn_loss_rpn_box_reg = loss_rpn_box_reg.item())\n",
        "        # Log metrics with wandb\n",
        "        wandb.log({\n",
        "            'trn_loss': loss,\n",
        "            'trn_loc_loss': loc_loss,\n",
        "            'trn_regr_loss': regr_loss,\n",
        "            'trn_loss_objectness': loss_objectness,\n",
        "            'trn_loss_rpn_box_reg': loss_rpn_box_reg\n",
        "        })\n",
        "\n",
        "    # Validation loop\n",
        "    for i, batch in enumerate(val_dl):\n",
        "        N = len(val_dl)\n",
        "        loss, losses = validate_batch(batch, model.float(), optim)\n",
        "        loc_loss, regr_loss, loss_objectness, loss_rpn_box_reg = [losses[k] for k in\n",
        "                                                                  ['loss_classifier', 'loss_box_reg',\n",
        "                                                                   'loss_objectness', 'loss_rpn_box_reg']]\n",
        "        log.record(e + (i+1)/N, val_loss=loss.item(), val_loc_loss=loc_loss.item(),\n",
        "                   val_regr_loss=regr_loss.item(), val_loss_objectness=loss_objectness.item(),\n",
        "                   val_loss_rpn_box_reg = loss_rpn_box_reg.item())\n",
        "        # Log metrics with wandb\n",
        "        wandb.log({\n",
        "            'val_loss': loss,\n",
        "            'val_loc_loss': loc_loss,\n",
        "            'val_regr_loss': regr_loss,\n",
        "            'val_loss_objectness': loss_objectness,\n",
        "            'val_loss_rpn_box_reg': loss_rpn_box_reg\n",
        "        })\n",
        "\n",
        "    log.report_avgs(e+1)\n",
        "\n",
        "    ##wandb.summary['test_accuracy'] = 0.8\n",
        "\n",
        "\n",
        "log.plot_epochs(['trn_loss', 'val_loss'])\n",
        "wandb.finish()"
      ]
    },
    {
      "cell_type": "code",
      "execution_count": null,
      "metadata": {
        "id": "s98fJof5sM_b"
      },
      "outputs": [],
      "source": [
        "from torchvision.ops import nms\n",
        "\n",
        "def decode_output(output):\n",
        "    bbs = output['boxes'].cpu().detach().numpy().astype(np.uint16)\n",
        "    labels = np.array([targets2label[i] for i in output['labels'].cpu().detach().numpy()])\n",
        "    confs = output['scores'].cpu().detach().numpy()\n",
        "    idxs = nms(torch.tensor(bbs.astype(np.float32)), torch.tensor(confs), 0.05)\n",
        "    bbs, confs, labels = [tensor[idxs] for tensor in [bbs, confs, labels]]\n",
        "    if len(idxs) == 1:\n",
        "        bbs, confs, labels = [np.array([tensor]) for tensor in [bbs, confs, labels]]\n",
        "    return bbs.tolist(), confs.tolist(), labels.tolist()\n",
        "\n",
        "model.eval()\n",
        "for i, (images, targets) in enumerate(val_dl):\n",
        "    if i == 10: break\n",
        "    images = [im for im in images]\n",
        "    outputs = model(images)\n",
        "    for i, output in enumerate(outputs):\n",
        "        bbs, confs, labels = decode_output(output)\n",
        "        show(images[i].cpu().permute(1,2,0), bbs=bbs, texts=labels, sz=5, text_sz=10)"
      ]
    },
    {
      "cell_type": "markdown",
      "metadata": {
        "id": "c2ResGZ3IuLK"
      },
      "source": []
    }
  ],
  "metadata": {
    "accelerator": "GPU",
    "colab": {
      "gpuType": "T4",
      "machine_shape": "hm",
      "provenance": [],
      "include_colab_link": true
    },
    "kernelspec": {
      "display_name": "Python 3",
      "name": "python3"
    },
    "language_info": {
      "name": "python"
    },
    "widgets": {
      "application/vnd.jupyter.widget-state+json": {
        "11d0891ee98d49dfa6da255ef8601d4e": {
          "model_module": "@jupyter-widgets/controls",
          "model_name": "VBoxModel",
          "model_module_version": "1.5.0",
          "state": {
            "_dom_classes": [],
            "_model_module": "@jupyter-widgets/controls",
            "_model_module_version": "1.5.0",
            "_model_name": "VBoxModel",
            "_view_count": null,
            "_view_module": "@jupyter-widgets/controls",
            "_view_module_version": "1.5.0",
            "_view_name": "VBoxView",
            "box_style": "",
            "children": [
              "IPY_MODEL_f0fe70946f9244a498f4acc4b6f5d382",
              "IPY_MODEL_5ed8b1b1b3d24d4e9144ade55ca96e70"
            ],
            "layout": "IPY_MODEL_86c5df9347394eeeb9d2d148035a0b5e"
          }
        },
        "f0fe70946f9244a498f4acc4b6f5d382": {
          "model_module": "@jupyter-widgets/controls",
          "model_name": "LabelModel",
          "model_module_version": "1.5.0",
          "state": {
            "_dom_classes": [],
            "_model_module": "@jupyter-widgets/controls",
            "_model_module_version": "1.5.0",
            "_model_name": "LabelModel",
            "_view_count": null,
            "_view_module": "@jupyter-widgets/controls",
            "_view_module_version": "1.5.0",
            "_view_name": "LabelView",
            "description": "",
            "description_tooltip": null,
            "layout": "IPY_MODEL_cdddb59af32d444e839112f75b0c593e",
            "placeholder": "​",
            "style": "IPY_MODEL_8d5d67a2f9d74f1ead99af5a6da17c5a",
            "value": "0.083 MB of 0.083 MB uploaded\r"
          }
        },
        "5ed8b1b1b3d24d4e9144ade55ca96e70": {
          "model_module": "@jupyter-widgets/controls",
          "model_name": "FloatProgressModel",
          "model_module_version": "1.5.0",
          "state": {
            "_dom_classes": [],
            "_model_module": "@jupyter-widgets/controls",
            "_model_module_version": "1.5.0",
            "_model_name": "FloatProgressModel",
            "_view_count": null,
            "_view_module": "@jupyter-widgets/controls",
            "_view_module_version": "1.5.0",
            "_view_name": "ProgressView",
            "bar_style": "",
            "description": "",
            "description_tooltip": null,
            "layout": "IPY_MODEL_e7fe96bd1f2b48a1a9556943758c0173",
            "max": 1,
            "min": 0,
            "orientation": "horizontal",
            "style": "IPY_MODEL_63b51ee024d243729e5d83ce91525810",
            "value": 1
          }
        },
        "86c5df9347394eeeb9d2d148035a0b5e": {
          "model_module": "@jupyter-widgets/base",
          "model_name": "LayoutModel",
          "model_module_version": "1.2.0",
          "state": {
            "_model_module": "@jupyter-widgets/base",
            "_model_module_version": "1.2.0",
            "_model_name": "LayoutModel",
            "_view_count": null,
            "_view_module": "@jupyter-widgets/base",
            "_view_module_version": "1.2.0",
            "_view_name": "LayoutView",
            "align_content": null,
            "align_items": null,
            "align_self": null,
            "border": null,
            "bottom": null,
            "display": null,
            "flex": null,
            "flex_flow": null,
            "grid_area": null,
            "grid_auto_columns": null,
            "grid_auto_flow": null,
            "grid_auto_rows": null,
            "grid_column": null,
            "grid_gap": null,
            "grid_row": null,
            "grid_template_areas": null,
            "grid_template_columns": null,
            "grid_template_rows": null,
            "height": null,
            "justify_content": null,
            "justify_items": null,
            "left": null,
            "margin": null,
            "max_height": null,
            "max_width": null,
            "min_height": null,
            "min_width": null,
            "object_fit": null,
            "object_position": null,
            "order": null,
            "overflow": null,
            "overflow_x": null,
            "overflow_y": null,
            "padding": null,
            "right": null,
            "top": null,
            "visibility": null,
            "width": null
          }
        },
        "cdddb59af32d444e839112f75b0c593e": {
          "model_module": "@jupyter-widgets/base",
          "model_name": "LayoutModel",
          "model_module_version": "1.2.0",
          "state": {
            "_model_module": "@jupyter-widgets/base",
            "_model_module_version": "1.2.0",
            "_model_name": "LayoutModel",
            "_view_count": null,
            "_view_module": "@jupyter-widgets/base",
            "_view_module_version": "1.2.0",
            "_view_name": "LayoutView",
            "align_content": null,
            "align_items": null,
            "align_self": null,
            "border": null,
            "bottom": null,
            "display": null,
            "flex": null,
            "flex_flow": null,
            "grid_area": null,
            "grid_auto_columns": null,
            "grid_auto_flow": null,
            "grid_auto_rows": null,
            "grid_column": null,
            "grid_gap": null,
            "grid_row": null,
            "grid_template_areas": null,
            "grid_template_columns": null,
            "grid_template_rows": null,
            "height": null,
            "justify_content": null,
            "justify_items": null,
            "left": null,
            "margin": null,
            "max_height": null,
            "max_width": null,
            "min_height": null,
            "min_width": null,
            "object_fit": null,
            "object_position": null,
            "order": null,
            "overflow": null,
            "overflow_x": null,
            "overflow_y": null,
            "padding": null,
            "right": null,
            "top": null,
            "visibility": null,
            "width": null
          }
        },
        "8d5d67a2f9d74f1ead99af5a6da17c5a": {
          "model_module": "@jupyter-widgets/controls",
          "model_name": "DescriptionStyleModel",
          "model_module_version": "1.5.0",
          "state": {
            "_model_module": "@jupyter-widgets/controls",
            "_model_module_version": "1.5.0",
            "_model_name": "DescriptionStyleModel",
            "_view_count": null,
            "_view_module": "@jupyter-widgets/base",
            "_view_module_version": "1.2.0",
            "_view_name": "StyleView",
            "description_width": ""
          }
        },
        "e7fe96bd1f2b48a1a9556943758c0173": {
          "model_module": "@jupyter-widgets/base",
          "model_name": "LayoutModel",
          "model_module_version": "1.2.0",
          "state": {
            "_model_module": "@jupyter-widgets/base",
            "_model_module_version": "1.2.0",
            "_model_name": "LayoutModel",
            "_view_count": null,
            "_view_module": "@jupyter-widgets/base",
            "_view_module_version": "1.2.0",
            "_view_name": "LayoutView",
            "align_content": null,
            "align_items": null,
            "align_self": null,
            "border": null,
            "bottom": null,
            "display": null,
            "flex": null,
            "flex_flow": null,
            "grid_area": null,
            "grid_auto_columns": null,
            "grid_auto_flow": null,
            "grid_auto_rows": null,
            "grid_column": null,
            "grid_gap": null,
            "grid_row": null,
            "grid_template_areas": null,
            "grid_template_columns": null,
            "grid_template_rows": null,
            "height": null,
            "justify_content": null,
            "justify_items": null,
            "left": null,
            "margin": null,
            "max_height": null,
            "max_width": null,
            "min_height": null,
            "min_width": null,
            "object_fit": null,
            "object_position": null,
            "order": null,
            "overflow": null,
            "overflow_x": null,
            "overflow_y": null,
            "padding": null,
            "right": null,
            "top": null,
            "visibility": null,
            "width": null
          }
        },
        "63b51ee024d243729e5d83ce91525810": {
          "model_module": "@jupyter-widgets/controls",
          "model_name": "ProgressStyleModel",
          "model_module_version": "1.5.0",
          "state": {
            "_model_module": "@jupyter-widgets/controls",
            "_model_module_version": "1.5.0",
            "_model_name": "ProgressStyleModel",
            "_view_count": null,
            "_view_module": "@jupyter-widgets/base",
            "_view_module_version": "1.2.0",
            "_view_name": "StyleView",
            "bar_color": null,
            "description_width": ""
          }
        }
      }
    }
  },
  "nbformat": 4,
  "nbformat_minor": 0
}